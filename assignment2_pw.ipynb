{
 "cells": [
  {
   "cell_type": "markdown",
   "id": "d47ece38-d2ee-449a-9c03-4f6f78808f53",
   "metadata": {},
   "source": [
    "Discuss string slicing and provide examples."
   ]
  },
  {
   "cell_type": "code",
   "execution_count": 3,
   "id": "d2b0d292-5c35-46be-972e-f15a78984450",
   "metadata": {},
   "outputs": [
    {
     "name": "stdout",
     "output_type": "stream",
     "text": [
      "Yuvra\n",
      "Yuvra\n",
      "Prajapat\n",
      "ajapat\n",
      "Yva rjpt\n",
      "tapajarP jarvuY\n"
     ]
    }
   ],
   "source": [
    "#Basic slicing\n",
    "s = \"Yuvraj Prajapat\"\n",
    "print(s[0:5])  \n",
    "#Omitting start or stop\n",
    "print(s[:5])   \n",
    "print(s[7:])   \n",
    "#Negative indices\n",
    "print(s[-6:])\n",
    "#Using step\n",
    "print(s[::2])\n",
    "#Reversing a string\n",
    "print(s[::-1])\n"
   ]
  },
  {
   "cell_type": "markdown",
   "id": "0e49027a-9d35-4c55-8f42-8f5091622cf9",
   "metadata": {},
   "source": [
    "Explain the key features of lists in Python."
   ]
  },
  {
   "cell_type": "code",
   "execution_count": 7,
   "id": "c900e881-3e70-411f-9ff7-470d64f51370",
   "metadata": {},
   "outputs": [
    {
     "name": "stdout",
     "output_type": "stream",
     "text": [
      "10\n",
      "[1, 20, 3]\n",
      "[10, 'Hello', 3.14, [1, 2, 3]]\n",
      "[1, 2, 3, 4]\n",
      "[20, 30, 40]\n",
      "6\n",
      "[0, 1, 4, 9, 16]\n"
     ]
    }
   ],
   "source": [
    "#Ordered\n",
    "my_list = [10, 20, 30]\n",
    "print(my_list[0])\n",
    "#Mutable\n",
    "my_list = [1, 2, 3]\n",
    "my_list[1] = 20\n",
    "print(my_list) \n",
    "# Heterogeneous\n",
    "my_list = [10, \"Hello\", 3.14, [1, 2, 3]]\n",
    "print(my_list)  \n",
    "#Dynamic Size\n",
    "my_list = [1, 2, 3]\n",
    "my_list.append(4)\n",
    "print(my_list) \n",
    "#Slicing\n",
    "my_list = [10, 20, 30, 40, 50]\n",
    "print(my_list[1:4]) \n",
    "#Nesting\n",
    "matrix = [[1, 2, 3], [4, 5, 6], [7, 8, 9]]\n",
    "print(matrix[1][2]) \n",
    "# List Comprehension\n",
    "squares = [x**2 for x in range(5)]\n",
    "print(squares)  \n"
   ]
  },
  {
   "cell_type": "markdown",
   "id": "3fbc6d10-4282-4330-b5d9-6661c77189fd",
   "metadata": {},
   "source": [
    "Describe how to access, modify and delete elements in a list with examples"
   ]
  },
  {
   "cell_type": "code",
   "execution_count": 10,
   "id": "f345139d-2940-4e3f-b443-4ca8f41a958e",
   "metadata": {},
   "outputs": [
    {
     "name": "stdout",
     "output_type": "stream",
     "text": [
      "10\n",
      "40\n",
      "50\n",
      "30\n",
      "[10, 200, 30, 40, 50]\n",
      "[10, 200, 300, 400, 50]\n",
      "300\n",
      "[10, 200, 400, 50]\n"
     ]
    }
   ],
   "source": [
    "#Accessing Elements in a List\n",
    "my_list = [10, 20, 30, 40, 50]\n",
    "print(my_list[0])  \n",
    "print(my_list[3])\n",
    "print(my_list[-1])  \n",
    "print(my_list[-3]) \n",
    "#Modifying Elements in a List\n",
    "my_list = [10, 20, 30, 40, 50]\n",
    "my_list[1] = 200\n",
    "print(my_list)\n",
    "my_list[2:4] = [300, 400]\n",
    "print(my_list)\n",
    "#Deleting Elements in a List\n",
    "removed_element = my_list.pop(2)\n",
    "print(removed_element)  \n",
    "print(my_list) "
   ]
  },
  {
   "cell_type": "markdown",
   "id": "d3b6c0e6-d6a5-4008-9c3b-60d6fbc2720a",
   "metadata": {},
   "source": [
    "Compare and contrast tuples and lists with examples."
   ]
  },
  {
   "cell_type": "code",
   "execution_count": 15,
   "id": "47f809f3-eb7a-44d2-9139-c58e876e894d",
   "metadata": {},
   "outputs": [
    {
     "name": "stdout",
     "output_type": "stream",
     "text": [
      "[1, 20, 3]\n",
      "(1, 2, 3)\n"
     ]
    }
   ],
   "source": [
    "# List (mutable)\n",
    "my_list = [1, 2, 3]\n",
    "my_list[1] = 20  \n",
    "print(my_list)   \n",
    "\n",
    "# Tuple (immutable)\n",
    "my_tuple = (1, 2, 3)\n",
    "print(my_tuple)"
   ]
  },
  {
   "cell_type": "markdown",
   "id": "7e6b8bf9-4dd1-4559-9212-4744a77cf61e",
   "metadata": {},
   "source": [
    " Describe the key features of sets and provide examples of their use\r\n"
   ]
  },
  {
   "cell_type": "code",
   "execution_count": 18,
   "id": "1c3d7849-ccb4-4cb9-8885-1023b0bf5ecd",
   "metadata": {},
   "outputs": [
    {
     "name": "stdout",
     "output_type": "stream",
     "text": [
      "{1, 2, 3, 4}\n",
      "{1, 2, 3, 4}\n",
      "{1, 2, 3, 4}\n"
     ]
    }
   ],
   "source": [
    "#Unordered Collection\n",
    "my_set = {1, 2, 3, 4}\n",
    "print(my_set) \n",
    "#Unique Elements\n",
    "my_set = {1, 2, 2, 3, 4}\n",
    "print(my_set) \n",
    "#Mutable\n",
    "my_set = {1, 2, 3}\n",
    "my_set.add(4)  \n",
    "print(my_set)"
   ]
  },
  {
   "cell_type": "markdown",
   "id": "3996a1bc-1496-46f8-b117-cc5a29d480ba",
   "metadata": {},
   "source": [
    "Discuss the use cases of tuples and sets in Python programming.\n"
   ]
  },
  {
   "cell_type": "code",
   "execution_count": 21,
   "id": "f19bfc29-e2ee-44f1-9905-7723cef1c598",
   "metadata": {},
   "outputs": [
    {
     "name": "stdout",
     "output_type": "stream",
     "text": [
      "John 20 Computer Science\n",
      "Alice Developer 5\n"
     ]
    }
   ],
   "source": [
    "#Storing Immutable Data:\n",
    "coordinates = (40.7128, 74.0060)  \n",
    "#Returning Multiple Values from Functions:\n",
    "def get_student_info():\n",
    "    return (\"John\", 20, \"Computer Science\")\n",
    "\n",
    "name, age, major = get_student_info()\n",
    "print(name, age, major)\n",
    "#Packing and Unpacking\n",
    "person = (\"Alice\", \"Developer\", 5)\n",
    "name, job, experience = person\n",
    "print(name, job, experience)  "
   ]
  },
  {
   "cell_type": "code",
   "execution_count": 23,
   "id": "6abe5044-75c4-4c92-914f-d56db811b34b",
   "metadata": {},
   "outputs": [
    {
     "name": "stdout",
     "output_type": "stream",
     "text": [
      "{1, 2, 3, 4, 5}\n",
      "Valid ID\n",
      "{'Bob'}\n"
     ]
    }
   ],
   "source": [
    "#Removing Duplicates from a Collection\n",
    "numbers = [1, 2, 2, 3, 4, 4, 5]\n",
    "unique_numbers = set(numbers)\n",
    "print(unique_numbers)\n",
    "#Efficient Membership Testing\n",
    "valid_ids = {101, 102, 103, 104}\n",
    "if 102 in valid_ids:\n",
    "    print(\"Valid ID\")\n",
    "#Mathematical Set Operations\n",
    "group_A = {\"Alice\", \"Bob\", \"Charlie\"}\n",
    "group_B = {\"Bob\", \"David\", \"Eve\"}\n",
    "common_students = group_A & group_B\n",
    "print(common_students)\n"
   ]
  },
  {
   "cell_type": "markdown",
   "id": "57a9ca9c-c800-4fdc-8ef3-36408c254964",
   "metadata": {},
   "source": [
    "Describe  hon to add modify and delete items in a dictionary with examples.\n"
   ]
  },
  {
   "cell_type": "code",
   "execution_count": 26,
   "id": "e6b40fea-f9f2-46e9-bc12-fa11a01a94a7",
   "metadata": {},
   "outputs": [
    {
     "name": "stdout",
     "output_type": "stream",
     "text": [
      "{'name': 'Alice', 'age': 21}\n",
      "{'name': 'Alice', 'age': 22, 'major': 'Computer Science'}\n",
      "22\n",
      "{'name': 'Alice', 'major': 'Data Science'}\n"
     ]
    }
   ],
   "source": [
    "#Adding Items to a Dictionary\n",
    "student = {}\n",
    "\n",
    "student[\"name\"] = \"Alice\"\n",
    "student[\"age\"] = 21\n",
    "\n",
    "print(student)\n",
    "#Modifying Items in a Dictionary\n",
    "student = {\"name\": \"Alice\", \"age\": 21, \"major\": \"Computer Science\"}\n",
    "student[\"age\"] = 22\n",
    "print(student)\n",
    "#Deleting Items from a Dictionary\n",
    "student = {\"name\": \"Alice\", \"age\": 22, \"major\": \"Data Science\"}\n",
    "age = student.pop(\"age\")\n",
    "print(age)        \n",
    "print(student) \n"
   ]
  },
  {
   "cell_type": "markdown",
   "id": "6d98bbe4-f10b-4211-93a3-d8ecf49da708",
   "metadata": {},
   "source": [
    " Discuss the importance of dictionary keys being immutable and provide examples"
   ]
  },
  {
   "cell_type": "code",
   "execution_count": null,
   "id": "d51d5318-6aba-41b0-9f1c-cf6ed77384ff",
   "metadata": {},
   "outputs": [],
   "source": [
    "#Strings as Keys\n",
    "student = {\"name\": \"Alice\", \"age\": 22}\n",
    "print(student[\"name\"])  \n",
    "#Integers as Keys\n",
    "scores = {1: \"Alice\", 2: \"Bob\", 3: \"Charlie\"}\n",
    "print(scores[1])\n",
    "#Tuples as Keys\n",
    "location = {(40.7128, 74.0060): \"New York\", (34.0522, 118.2437): \"Los Angeles\"}\n",
    "print(location[(40.7128, 74.0060)])  "
   ]
  }
 ],
 "metadata": {
  "kernelspec": {
   "display_name": "Python 3 (ipykernel)",
   "language": "python",
   "name": "python3"
  },
  "language_info": {
   "codemirror_mode": {
    "name": "ipython",
    "version": 3
   },
   "file_extension": ".py",
   "mimetype": "text/x-python",
   "name": "python",
   "nbconvert_exporter": "python",
   "pygments_lexer": "ipython3",
   "version": "3.12.4"
  }
 },
 "nbformat": 4,
 "nbformat_minor": 5
}

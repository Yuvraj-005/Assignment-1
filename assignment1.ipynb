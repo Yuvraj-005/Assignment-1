{
 "cells": [
  {
   "cell_type": "markdown",
   "id": "8d930ec0-2ed4-4652-8c06-9b2ae5092baa",
   "metadata": {},
   "source": [
    "Describe the role of predefined keywords in Python and provide examples of how they are used in a program?"
   ]
  },
  {
   "cell_type": "code",
   "execution_count": 1,
   "id": "6ac57577-9d5c-4da2-a588-c4212970ca52",
   "metadata": {},
   "outputs": [
    {
     "name": "stdout",
     "output_type": "stream",
     "text": [
      "Positive number\n"
     ]
    }
   ],
   "source": [
    "\n",
    "#Control Flow Keywords:\n",
    "x = 10\n",
    "if x > 0:\n",
    "    print(\"Positive number\")\n",
    "elif x == 0:\n",
    "    print(\"Zero\")\n",
    "else:\n",
    "    print(\"Negative number\")\n"
   ]
  },
  {
   "cell_type": "code",
   "execution_count": 3,
   "id": "79860901-6342-46a4-8206-b2798d06464b",
   "metadata": {},
   "outputs": [
    {
     "name": "stdout",
     "output_type": "stream",
     "text": [
      "0\n",
      "1\n",
      "2\n",
      "3\n",
      "4\n",
      "5\n",
      "4\n",
      "3\n",
      "2\n",
      "1\n"
     ]
    }
   ],
   "source": [
    "for i in range(5):\n",
    "    print(i)\n",
    "\n",
    "n = 5\n",
    "while n > 0:\n",
    "    print(n)\n",
    "    n -= 1\n"
   ]
  },
  {
   "cell_type": "code",
   "execution_count": 5,
   "id": "159dbc72-5014-454c-b4aa-c712b3b9df49",
   "metadata": {},
   "outputs": [
    {
     "name": "stdout",
     "output_type": "stream",
     "text": [
      "Hello, Yuvraj!\n"
     ]
    }
   ],
   "source": [
    "#Function and Class Definition Keywords:\n",
    "#Functions \n",
    "def greet(name):\n",
    "    return f\"Hello, {name}!\"\n",
    "print(greet(\"Yuvraj\"))\n"
   ]
  },
  {
   "cell_type": "code",
   "execution_count": 7,
   "id": "462d5bb9-2bde-4038-b1d4-5881c4a7f0db",
   "metadata": {},
   "outputs": [
    {
     "name": "stdout",
     "output_type": "stream",
     "text": [
      "Welcome, student!\n"
     ]
    }
   ],
   "source": [
    "#Data Management Keywords:\n",
    "is_student = True\n",
    "if is_student:\n",
    "    print(\"Welcome, student!\")\n"
   ]
  },
  {
   "cell_type": "code",
   "execution_count": 9,
   "id": "8b42daac-371b-4203-a47d-314dd18dea2f",
   "metadata": {},
   "outputs": [
    {
     "name": "stdout",
     "output_type": "stream",
     "text": [
      "Cannot divide by zero\n",
      "This will always execute\n"
     ]
    }
   ],
   "source": [
    "#Exception Handling Keywords:\n",
    "try:    \n",
    "    x = 10 / 0\n",
    "except ZeroDivisionError:    \n",
    "    print(\"Cannot divide by zero\")\n",
    "finally:    \n",
    "    print(\"This will always execute\")"
   ]
  },
  {
   "cell_type": "markdown",
   "id": "905f1954-eb47-4082-a9b9-a60c02cf2086",
   "metadata": {},
   "source": [
    "Compare and contrast mutable and immutable objects in Python with examples."
   ]
  },
  {
   "cell_type": "code",
   "execution_count": 11,
   "id": "c7a7e95a-42fa-45dc-a63a-fb2fde9e6205",
   "metadata": {},
   "outputs": [
    {
     "name": "stdout",
     "output_type": "stream",
     "text": [
      "[10, 2, 3]\n",
      "[10, 2, 3, 4]\n"
     ]
    }
   ],
   "source": [
    "#Mutable Objects:\n",
    "my_list = [1, 2, 3]\n",
    "my_list[0] = 10\n",
    "print(my_list)  \n",
    "my_list.append(4)\n",
    "print(my_list)  \n"
   ]
  },
  {
   "cell_type": "code",
   "execution_count": 13,
   "id": "16a739dd-26dd-47dc-bc48-e1e820d25b76",
   "metadata": {},
   "outputs": [
    {
     "name": "stdout",
     "output_type": "stream",
     "text": [
      "Hello\n",
      "Jello\n"
     ]
    }
   ],
   "source": [
    "#Immutable Objects:\n",
    "my_string = \"Hello\"\n",
    "new_string = my_string.replace(\"H\", \"J\")\n",
    "print(my_string)\n",
    "print(new_string)"
   ]
  },
  {
   "cell_type": "markdown",
   "id": "51e61b22-0bd6-483b-956a-73880d837fc5",
   "metadata": {},
   "source": [
    "Discuss the different types of operators in Python and provide examples of how they are used."
   ]
  },
  {
   "cell_type": "code",
   "execution_count": 17,
   "id": "37aaca47-b812-435f-84fa-cc4597f4c357",
   "metadata": {},
   "outputs": [
    {
     "name": "stdout",
     "output_type": "stream",
     "text": [
      "8\n",
      "2\n",
      "15\n",
      "1.6666666666666667\n",
      "2\n"
     ]
    }
   ],
   "source": [
    "#Arithmetic Operators:\n",
    "# Adds two operands.\n",
    "a = 5\n",
    "b = 3\n",
    "print(a + b)  \n",
    "#Subtracts the second operand from the first\n",
    "print(a - b)  \n",
    "#Multiplies two operands\n",
    "print(a * b)  \n",
    "#Divides the first operand by the second\n",
    "print(a / b)  \n",
    "#Returns the remainder of the division\n",
    "print(a % b)  \n"
   ]
  },
  {
   "cell_type": "code",
   "execution_count": 21,
   "id": "2bf771c9-2047-4f35-949f-44187ce808b0",
   "metadata": {},
   "outputs": [
    {
     "name": "stdout",
     "output_type": "stream",
     "text": [
      "False\n",
      "True\n",
      "True\n",
      "False\n"
     ]
    }
   ],
   "source": [
    "#Comparison Operators:\n",
    "#Checks if two operands are equal.\n",
    "print(a == b)  \n",
    "#Checks if two operands are not equal\n",
    "print(a != b)  \n",
    "#Checks if the first operand is greater than the second.\n",
    "print(a > b)\n",
    "#Checks if the first operand is less than the second\n",
    "print(a < b)  "
   ]
  },
  {
   "cell_type": "code",
   "execution_count": 23,
   "id": "e8ffe258-a849-4f1f-b9df-a4f53c615c6d",
   "metadata": {},
   "outputs": [
    {
     "name": "stdout",
     "output_type": "stream",
     "text": [
      "False\n",
      "True\n",
      "False\n"
     ]
    }
   ],
   "source": [
    "#Logical Operators:\n",
    "#and: Returns True if both statements are true\n",
    "x = True\n",
    "y = False\n",
    "print(x and y)  \n",
    "#or: Returns True if at least one of the statements is true\n",
    "print(x or y)  \n",
    "#not: Reverses the logical state of its operand\n",
    "print(not x)  "
   ]
  },
  {
   "cell_type": "code",
   "execution_count": 25,
   "id": "b145791e-02b7-4fd0-8592-197444604973",
   "metadata": {},
   "outputs": [
    {
     "name": "stdout",
     "output_type": "stream",
     "text": [
      "10\n",
      "15\n"
     ]
    }
   ],
   "source": [
    "# Assignment Operators:\n",
    "#=: Assigns the value on the right to the variable on the left.\n",
    "a = 10\n",
    "print(a)  \n",
    "#+=: Adds the right operand to the left operand and assigns the result to the left operand\n",
    "a += 5  \n",
    "print(a)\n"
   ]
  },
  {
   "cell_type": "code",
   "execution_count": 27,
   "id": "2785e008-8e23-410f-bec9-2785aa2bc9be",
   "metadata": {},
   "outputs": [
    {
     "name": "stdout",
     "output_type": "stream",
     "text": [
      "1\n",
      "7\n",
      "6\n",
      "-6\n",
      "10\n",
      "2\n"
     ]
    }
   ],
   "source": [
    "#Bitwise Operators:\n",
    "#& (AND): Sets each bit to 1 if both bits are 1.\n",
    "a = 5  # 0101 in binary\n",
    "b = 3  # 0011 in binary\n",
    "print(a & b)  \n",
    "#| (OR): Sets each bit to 1 if at least one of the bits is 1.\n",
    "print(a | b)  \n",
    "#^ (XOR): Sets each bit to 1 if only one of the bits is 1.\n",
    "print(a ^ b)  \n",
    "#~ (NOT): Inverts all the bits.\n",
    "print(~a)  \n",
    "#<< (Left Shift): Shifts bits to the left by a specified number of positions.\n",
    "print(a << 1)  \n",
    "#>> (Right Shift): Shifts bits to the right by a specified number of positions.\n",
    "print(a >> 1) "
   ]
  },
  {
   "cell_type": "markdown",
   "id": "32893a38-5da0-4fab-a648-15e3e8071c7f",
   "metadata": {},
   "source": [
    "Explain the concept of type casting in Python with examples."
   ]
  },
  {
   "cell_type": "code",
   "execution_count": 29,
   "id": "bc207a27-7041-4805-ae3b-f81c135ba636",
   "metadata": {},
   "outputs": [
    {
     "name": "stdout",
     "output_type": "stream",
     "text": [
      "7.5\n",
      "<class 'float'>\n",
      "4\n",
      "<class 'int'>\n"
     ]
    }
   ],
   "source": [
    "# Implicit Type Casting\n",
    "a = 5       # Integer\n",
    "b = 2.5     # Float\n",
    "\n",
    "\n",
    "result = a + b\n",
    "\n",
    "print(result)   \n",
    "print(type(result))\n",
    "#Explicit Type Casting\n",
    "x = 4.7\n",
    "y = int(x)  \n",
    "\n",
    "print(y)   \n",
    "print(type(y))  \n",
    "\n"
   ]
  },
  {
   "cell_type": "code",
   "execution_count": 31,
   "id": "31cd0119-cc3e-41d0-8e5e-941c799749ce",
   "metadata": {},
   "outputs": [
    {
     "name": "stdout",
     "output_type": "stream",
     "text": [
      "Grade: B\n"
     ]
    }
   ],
   "source": [
    "#How do conditional statements work in Python? Illustrate with examples\n",
    "marks = 85\n",
    "if marks >= 90:\n",
    "    print(\"Grade: A\")\n",
    "elif marks >= 75:\n",
    "    print(\"Grade: B\")\n",
    "else:\n",
    "    print(\"Grade: C\")\n"
   ]
  },
  {
   "cell_type": "code",
   "execution_count": null,
   "id": "552f4752-c7f4-4845-9cde-bd8f389114f1",
   "metadata": {},
   "outputs": [],
   "source": [
    "Describe the different types of loops in Python and their use cases with examples."
   ]
  },
  {
   "cell_type": "code",
   "execution_count": 33,
   "id": "29db8bb4-6e6a-48c7-839a-9e826214c39d",
   "metadata": {},
   "outputs": [
    {
     "name": "stdout",
     "output_type": "stream",
     "text": [
      "0\n",
      "1\n",
      "2\n",
      "3\n",
      "4\n"
     ]
    }
   ],
   "source": [
    "#for Loop\n",
    "for i in range(5):\n",
    "    print(i)\n"
   ]
  },
  {
   "cell_type": "code",
   "execution_count": 35,
   "id": "68015e7d-8a2f-4405-bd15-3b34061aa7c5",
   "metadata": {},
   "outputs": [
    {
     "name": "stdout",
     "output_type": "stream",
     "text": [
      "5\n",
      "4\n",
      "3\n",
      "2\n",
      "1\n"
     ]
    }
   ],
   "source": [
    "#while loop\n",
    "count = 5\n",
    "while count > 0:\n",
    "    print(count)\n",
    "    count -= 1\n"
   ]
  },
  {
   "cell_type": "code",
   "execution_count": null,
   "id": "d489b6c8-15b5-451d-ace4-a9a0c0a0dfb3",
   "metadata": {},
   "outputs": [],
   "source": [
    "https://docs.google.com/document/d/1ZLbHaSI6J9XrYnMEVjpEngnX8JQmJjHU/edit?usp=sharing&ouid=114387239322825279802&rtpof=true&sd=true"
   ]
  }
 ],
 "metadata": {
  "kernelspec": {
   "display_name": "Python 3 (ipykernel)",
   "language": "python",
   "name": "python3"
  },
  "language_info": {
   "codemirror_mode": {
    "name": "ipython",
    "version": 3
   },
   "file_extension": ".py",
   "mimetype": "text/x-python",
   "name": "python",
   "nbconvert_exporter": "python",
   "pygments_lexer": "ipython3",
   "version": "3.12.4"
  }
 },
 "nbformat": 4,
 "nbformat_minor": 5
}

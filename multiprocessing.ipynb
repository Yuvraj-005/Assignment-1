{
 "cells": [
  {
   "cell_type": "markdown",
   "id": "35dc83c5-0233-4593-ada1-20c1ce1b46a1",
   "metadata": {},
   "source": [
    " 1.Discuss the scenarios where multithreading is preferable to multiprocessing and scenarios where\n",
    "multiprocessing is a better choice."
   ]
  },
  {
   "cell_type": "markdown",
   "id": "7160daba-5c2f-4568-afdc-06599ab5728e",
   "metadata": {},
   "source": [
    "Multithreading is Preferable\n",
    "\n",
    "1)I/O-bound tasks: If the program spends a lot of time waiting for external resources (like reading/writing files, network operations, or database queries), multithreading is usually more efficient. Since I/O-bound tasks often involve waiting, threads can remain active while waiting, allowing other threads to continue execution.\n",
    "\n",
    "Ex: A web crawler fetching multiple web pages simultaneously, or a server handling multiple client requests at the same time.\n",
    "\n",
    "2)Shared memory: In situations where multiple threads need to work on the same data (and modifications of data by one thread need to be visible to others), multithreading is advantageous. Threads share the same memory space, so it's easier to communicate and share resources between them without the overhead of inter-process communication (IPC).\n",
    "\n",
    "Ex: Real-time data processing in financial systems where threads work on shared datasets with minimal overhead for communication.\n",
    "\n",
    "3)Lower memory overhead: Since threads run in the same memory space as the parent process, they consume less memory than processes, making multithreading preferable in memory-constrained environments.\n",
    "\n",
    "Ex: Applications like a game engine where many tasks need to run in parallel but memory usage is a concern.\n",
    "\n",
    "Multiprocessing is Preferable:\n",
    "\n",
    "1)CPU-bound tasks: If the task is CPU-intensive (i.e., tasks that require a lot of computation), multiprocessing is more effective. Python’s Global Interpreter Lock (GIL) restricts CPU-bound tasks in multithreaded Python programs, so creating multiple processes allows better utilization of multiple CPU cores.\n",
    "\n",
    "Example: Data analysis, machine learning model training, or any computationally heavy task like video encoding or image processing.\n",
    "\n",
    "2)Independent processes: When different parts of the program are largely independent and don't need to share state or memory, multiprocessing is a better choice. Each process has its own memory space, which avoids race conditions and the need for synchronization mechanisms.\n",
    "\n",
    "Example: Running independent simulations where each simulation runs in isolation, such as Monte Carlo simulations or genetic algorithms.\n",
    "\n",
    "3)Avoiding GIL limitations (in Python): Python’s GIL prevents multiple threads from executing Python bytecode in parallel. Multiprocessing sidesteps this issue entirely by creating separate processes, each with its own Python interpreter and memory space.\n",
    "\n",
    "Example: Numerical computations using libraries like NumPy or SciPy, which are CPU-bound."
   ]
  },
  {
   "cell_type": "markdown",
   "id": "5c2c400c-a614-45a2-8c4f-1031804ed05c",
   "metadata": {},
   "source": [
    "2. Describe what a process pool is and how it helps in managing multiple processes efficiently."
   ]
  },
  {
   "cell_type": "markdown",
   "id": "5d565980-60e9-4a51-846e-6c42e326931c",
   "metadata": {},
   "source": [
    "A process pool is a collection of worker processes that are pre-created and managed to efficiently execute tasks in parallel. It allows a program to manage and execute multiple processes without having to manually create and manage each process individually.\n",
    "\n",
    "Characteristics of a Process Pool:\n",
    "\n",
    "Pre-allocation of worker processes: Instead of spawning a new process for every task, a process pool creates a fixed number of worker processes ahead of time. These processes are kept alive and can be reused for multiple tasks, minimizing the overhead of creating and destroying processes repeatedly.\n",
    "\n",
    "Task submission: Tasks are submitted to the process pool, which assigns them to the available worker processes. If all workers are busy, the tasks wait in a queue until a worker becomes available. This ensures efficient utilization of system resources.\n",
    "\n",
    "Load balancing: The pool automatically manages task assignment to workers, balancing the load across multiple processes. The developer doesn’t have to manually manage which task goes to which process.\n",
    "\n",
    "Manage Multiple Processes Efficiently:\n",
    "\n",
    "1)Reduced Overhead: Creating and destroying processes has a significant overhead due to the need to allocate memory, initialize resources, and start a new environment for each process. A process pool mitigates this by pre-creating a fixed number of processes and reusing them for multiple tasks, reducing the need to constantly create and destroy processes.\n",
    "\n",
    "2)Efficient Resource Utilization: By limiting the number of active processes, a process pool prevents overloading the system with too many processes. This ensures the system doesn’t run out of resources (e.g., memory, file handles) and that the tasks are spread across the available CPU cores efficiently.\n",
    "\n",
    "3)Task Queueing: If all the worker processes in the pool are busy, additional tasks are placed in a queue. The pool automatically assigns tasks to workers as soon as they are free, enabling efficient task management without the need for manual tracking."
   ]
  },
  {
   "cell_type": "markdown",
   "id": "b2c7b881-e225-493f-a4ad-32fe7bbaff03",
   "metadata": {},
   "source": [
    "3.Explain what multiprocessing is and why it is used in Python programs."
   ]
  },
  {
   "cell_type": "markdown",
   "id": "4b832b9b-5089-4b62-8076-61bfdfb4d106",
   "metadata": {},
   "source": [
    "Multiprocessing is a technique used in computing to execute multiple processes (independent programs or tasks) simultaneously, leveraging multiple CPU cores to increase performance. Each process runs independently, with its own memory space and system resources, allowing true parallel execution of tasks.\r\n",
    "\r\n",
    "Why Multiprocessing is Used in Python: 1)Bypassing the Global Interpreter Lock (GIL): Python’s GIL is a mechanism that allows only one thread to execute Python bytecode at a time, even on multi-core systems. This means that Python's built-in threading cannot fully utilize multiple CPU cores for CPU-bound tasks. Multiprocessing avoids this limitation by creating separate processes, each with its own GIL and memory space. This allows multiple processes to run in true parallel, fully utilizing the CPU cores.\r\n",
    "\r\n",
    "2)True Parallelism: In Python, multithreading (due to the GIL) only achieves concurrency for I/O-bound tasks (like reading files or network operations), but for CPU-bound tasks, it cannot achieve true parallelism. With multiprocessing, multiple processes run in parallel on different CPU cores, making it ideal for CPU-heavy operations like data analysis, machine learning, image processing, and numerical computation.\r\n",
    "\r\n",
    "3)Better Resource Isolation: Each process in the multiprocessing module runs in its own memory space. This ensures that data in one process is isolated from other processes, reducing the risk of race conditions and bugs caused by shared memory. This isolation also increases fault tolerance, as a crash in one process does not affect the others.\r\n",
    "\r\n",
    "4)Efficient Use of Multi-core Processors: Modern CPUs have multiple cores, and multiprocessing allows Python programs to utilize all available cores effectively. This improves the performance of tasks that can be parallelized by distributing the workload across multiple processes. For example, an application that processes large datasets can divide the data into smaller chunks, each processed by a separate process, significantly speeding up the overall computation."
   ]
  },
  {
   "cell_type": "markdown",
   "id": "b394945c-33ed-4277-920a-51e04de70015",
   "metadata": {},
   "source": [
    "4. Write a Python program using multithreading where one thread adds numbers to a list, and another thread removes numbers from the list. Implement a mechanism to avoid race conditions using threading.Lock."
   ]
  },
  {
   "cell_type": "code",
   "execution_count": 9,
   "id": "4487bd75-dcbd-4c4f-a543-726da40432a0",
   "metadata": {},
   "outputs": [
    {
     "name": "stdout",
     "output_type": "stream",
     "text": [
      "Adding 1 to the list.\n",
      "Adding 2 to the list.\n",
      "Removed 1 from the list.\n",
      "Adding 3 to the list.\n",
      "Removed 2 from the list.\n",
      "Adding 4 to the list.\n",
      "Adding 5 to the list.\n",
      "Removed 3 from the list.\n",
      "Adding 6 to the list.\n",
      "Removed 4 from the list.\n",
      "Adding 7 to the list.\n",
      "Adding 8 to the list.\n",
      "Removed 5 from the list.\n",
      "Adding 9 to the list.\n",
      "Removed 6 from the list.\n",
      "Adding 10 to the list.\n",
      "Removed 7 from the list.\n",
      "Removed 8 from the list.\n",
      "Removed 9 from the list.\n",
      "Removed 10 from the list.\n",
      "Final list: []\n"
     ]
    }
   ],
   "source": [
    "import threading\n",
    "import time\n",
    "\n",
    "# Shared resource (the list)\n",
    "shared_list = []\n",
    "\n",
    "# Lock object to prevent race conditions\n",
    "lock = threading.Lock()\n",
    "\n",
    "# Function for the adding thread\n",
    "def add_to_list():\n",
    "    for i in range(1, 11):\n",
    "        with lock:  # Acquire the lock before modifying the list\n",
    "            print(f\"Adding {i} to the list.\")\n",
    "            shared_list.append(i)\n",
    "        time.sleep(0.5)  # Simulate some delay\n",
    "\n",
    "# Function for the removing thread\n",
    "def remove_from_list():\n",
    "    for i in range(1, 11):\n",
    "        time.sleep(0.7)  # Simulate delay to allow adding thread to fill some items\n",
    "        with lock:  # Acquire the lock before modifying the list\n",
    "            if shared_list:\n",
    "                removed_item = shared_list.pop(0)\n",
    "                print(f\"Removed {removed_item} from the list.\")\n",
    "            else:\n",
    "                print(\"List is empty, nothing to remove.\")\n",
    "\n",
    "# Create threads\n",
    "add_thread = threading.Thread(target=add_to_list)\n",
    "remove_thread = threading.Thread(target=remove_from_list)\n",
    "\n",
    "# Start the threads\n",
    "add_thread.start()\n",
    "remove_thread.start()\n",
    "\n",
    "# Wait for both threads to complete\n",
    "add_thread.join()\n",
    "remove_thread.join()\n",
    "\n",
    "print(\"Final list:\", shared_list)\n"
   ]
  },
  {
   "cell_type": "markdown",
   "id": "4c54e90b-3ff0-44a7-abe2-8a26545947ba",
   "metadata": {},
   "source": [
    "5. Describe the methods and tools available in Python for safely sharing data between threads and processes."
   ]
  },
  {
   "cell_type": "markdown",
   "id": "fc0123a3-134e-404b-85e9-d6672b9187e2",
   "metadata": {},
   "source": [
    "1. \n",
    "Sharing Data Between Threads:\r\n",
    "a) Locks (threading.Lock) A lock (or mutex) is the most basic mechanism for preventing race conditions. It ensures that only one thread can access a shared resource (such as a list, dictionary, or file) at a time by acquiring the lock before accessing the resource and releasing it afterward"
   ]
  },
  {
   "cell_type": "code",
   "execution_count": 15,
   "id": "19ce01e7-9ff3-4a82-9bc8-420a78575945",
   "metadata": {},
   "outputs": [],
   "source": [
    "import threading\n",
    "\n",
    "lock = threading.Lock()\n",
    "\n",
    "def critical_section():\n",
    "    with lock:  # Only one thread can enter this block at a time\n",
    "        # Access shared resource safely here\n",
    "        pass\n"
   ]
  },
  {
   "cell_type": "markdown",
   "id": "ac98f27a-7377-4208-bffe-5eb7632f27e4",
   "metadata": {},
   "source": [
    "b) RLocks (threading.RLock) An RLock (reentrant lock) is a more flexible lock that allows a thread to acquire the same lock multiple times\r\n",
    "\r\n"
   ]
  },
  {
   "cell_type": "code",
   "execution_count": 18,
   "id": "e792bcca-1ffa-46df-98a7-0663e060fa6d",
   "metadata": {},
   "outputs": [],
   "source": [
    "lock = threading.RLock()\n",
    "with lock:\n",
    "    # Safely access shared resources, even if the lock is re-acquired\n",
    "    pass\n"
   ]
  },
  {
   "cell_type": "markdown",
   "id": "d778808e-51b4-44ad-9bff-bdc01843399e",
   "metadata": {},
   "source": [
    "c) Condition Variables (threading.Condition) A condition variable allows one or more threads to wait until a specific condition is met before continuing execution. It is often used with a Lock to allow threads to wait for a condition and be notified when that condition occurs (e.g., when shared data changes)."
   ]
  },
  {
   "cell_type": "markdown",
   "id": "fa34ae0f-f0bb-42b1-9175-956107986336",
   "metadata": {},
   "source": [
    "d) Events (threading.Event) An event is a simple mechanism for signaling between threads."
   ]
  },
  {
   "cell_type": "code",
   "execution_count": 22,
   "id": "f3052a82-1d3f-4ade-8989-3bac99b99e02",
   "metadata": {},
   "outputs": [],
   "source": [
    "event = threading.Event()\n",
    "\n",
    "def thread_function():\n",
    "    event.wait()  # Wait until another thread sets the event\n",
    "    # Safely access shared data\n",
    "\n",
    "# Another thread sets the event\n",
    "event.set()\n"
   ]
  },
  {
   "cell_type": "markdown",
   "id": "bcd1488e-d8d4-4ad2-8cac-020e7e574a7d",
   "metadata": {},
   "source": [
    "** 2)Sharing Data Between Processes:**"
   ]
  },
  {
   "cell_type": "markdown",
   "id": "becf4f19-42d7-4d0a-8560-b9c31f58d530",
   "metadata": {},
   "source": [
    "a) Multiprocessing Queue (multiprocessing.Queue)\r\n",
    "A multiprocessing queue is similar to queue.Queue, but it is designed for communication between processes. It allows safe exchange of data between processes by serializing the objects."
   ]
  },
  {
   "cell_type": "code",
   "execution_count": 26,
   "id": "adc84bfc-221a-4010-9634-96ba0a0a3d5a",
   "metadata": {},
   "outputs": [],
   "source": [
    "from multiprocessing import Process, Queue\n",
    "\n",
    "q = Queue()\n",
    "\n",
    "def producer():\n",
    "    q.put(42)  # Add data to the queue\n",
    "\n",
    "def consumer():\n",
    "    print(q.get())  # Retrieve data from the queue\n",
    "\n",
    "p1 = Process(target=producer)\n",
    "p2 = Process(target=consumer)\n",
    "p1.start()\n",
    "p2.start()\n",
    "p1.join()\n",
    "p2.join()\n"
   ]
  },
  {
   "cell_type": "markdown",
   "id": "6c9a01a4-1f88-4b7b-babe-6c21751623bc",
   "metadata": {},
   "source": [
    " b) Pipes (multiprocessing.Pipe)\r\n",
    "A pipe provides a two-way communication channel between two processes. One end of the pipe is used to send data, and the other end to receive it. It is faster than queues but limited to two processes."
   ]
  },
  {
   "cell_type": "code",
   "execution_count": null,
   "id": "2ca47aa3-39f4-4049-9caa-ee1ca7a51f30",
   "metadata": {},
   "outputs": [],
   "source": [
    "from multiprocessing import Process, Pipe\n",
    "\n",
    "parent_conn, child_conn = Pipe()\n",
    "\n",
    "def child():\n",
    "    child_conn.send(\"Hello from the child process\")\n",
    "\n",
    "p = Process(target=child)\n",
    "p.start()\n",
    "print(parent_conn.recv())\n",
    "p.join()\n"
   ]
  },
  {
   "cell_type": "markdown",
   "id": "513205d2-fad2-4ee3-acdb-972764107f91",
   "metadata": {},
   "source": [
    "c) Shared Memory (multiprocessing.Value, multiprocessing.Array)\r\n",
    "The multiprocessing module provides Value and Array objects for sharing data between processes using shared memory. These allow for shared, mutable data (like integers or arrays) to be stored in memory that is accessible by multiple processes.\r\n",
    "\r\n",
    "Value is used to share a single data item.\r\n",
    "Array is used to share a fixed-size array."
   ]
  },
  {
   "cell_type": "markdown",
   "id": "d898ddfb-4c3d-4f91-92e0-b5ee425c6a91",
   "metadata": {},
   "source": [
    "d) Manager (multiprocessing.Manager)\r\n",
    "A multiprocessing manager allows processes to share more complex data structures like lists, dictionaries, and queues."
   ]
  },
  {
   "cell_type": "code",
   "execution_count": null,
   "id": "54a5739a-354f-43e3-9bba-be3b11e3baf3",
   "metadata": {},
   "outputs": [],
   "source": [
    "from multiprocessing import Process, Manager\n",
    "\n",
    "manager = Manager()\n",
    "shared_list = manager.list()  # Create a shared list\n",
    "\n",
    "def add_item():\n",
    "    shared_list.append(42)\n",
    "\n",
    "p1 = Process(target=add_item)\n",
    "p1.start()\n",
    "p1.join()\n",
    "\n",
    "print(shared_list)\n"
   ]
  },
  {
   "cell_type": "markdown",
   "id": "8a25ef0e-4bc9-42c2-87b2-9fd742528716",
   "metadata": {},
   "source": [
    "6.discuss why it's curical to handle exception in concurrent program and the techniques available for doing so."
   ]
  },
  {
   "cell_type": "markdown",
   "id": "5a78f3d5-1861-4b14-86ee-017ebafa13c1",
   "metadata": {},
   "source": [
    "Handling exceptions in concurrent programs is crucial for ensuring program reliability, preventing deadlocks or resource leaks, and maintaining overall program stability.\n",
    "\n",
    "Exception Handling is Crucial in Concurrent Programs: 1)Preventing Program Crashes: In a multithreaded or multiprocessing program, if an exception is raised in one thread or process without being handled, it can terminate that thread or process. In some cases, this can crash the entire program or leave other parts of the program in an undefined state. Handling exceptions ensures that the program can gracefully recover or shut down without crashing unexpectedly.\n",
    "\n",
    "2)Ensuring Proper Resource Management: If an exception occurs during the use of shared resources (like files, memory, or locks), the resources may not be properly released. For example, a thread might acquire a lock but not release it if an exception occurs, leading to deadlocks or resource contention. Exception handling ensures that resources are always cleaned up, even in the event of an error.\n",
    "\n",
    "3)Maintaining Data Integrity: In concurrent programs, race conditions and inconsistent data states can occur when threads or processes modify shared data. If an exception occurs midway through modifying shared data, the data can be left in a partially updated state. Exception handling helps to prevent inconsistent data by rolling back changes or ensuring proper synchronization.\n",
    "\n",
    "4)Diagnosing and Debugging: Without proper exception handling, errors in concurrent programs may go unnoticed, leading to silent failures or bugs that are difficult to diagnose. By handling exceptions explicitly, you can log errors, collect diagnostic information, and make debugging easier.\n",
    "\n",
    "Techniques for Handling Exceptions in Concurrent Programs:\n",
    "\n",
    "1)Try-Except Blocks in Threads or Processes: The most basic way to handle exceptions in concurrent code is to wrap critical sections of code in try-except blocks within each thread or process."
   ]
  },
  {
   "cell_type": "code",
   "execution_count": null,
   "id": "946b7f1a-0e03-4392-bfdc-14208d719055",
   "metadata": {},
   "outputs": [],
   "source": [
    "import threading\n",
    "\n",
    "def thread_function():\n",
    "    try:\n",
    "        # Perform some operation that might raise an exception\n",
    "        result = 10 / 0  # This will raise a ZeroDivisionError\n",
    "    except Exception as e:\n",
    "        print(f\"Exception in thread: {e}\")\n",
    "        # Handle the exception or log the error\n",
    "    finally:\n",
    "        print(\"Thread completed.\")\n",
    "\n",
    "t = threading.Thread(target=thread_function)\n",
    "t.start()\n",
    "t.join()\n"
   ]
  },
  {
   "cell_type": "markdown",
   "id": "91ebcb65-4ffa-456f-a6f9-a1f6f67bf655",
   "metadata": {},
   "source": [
    "2)Using concurrent.futures Exception Handling:\r\n",
    "The concurrent.futures module simplifies managing threads and processes. When using ThreadPoolExecutor or ProcessPoolExecutor, exceptions can be handled when retrieving the results of tasks using futures."
   ]
  },
  {
   "cell_type": "code",
   "execution_count": null,
   "id": "7e20b396-f8e0-4f7d-ab6e-2c48e13b0c63",
   "metadata": {},
   "outputs": [],
   "source": [
    "from concurrent.futures import ThreadPoolExecutor\n",
    "\n",
    "def task(n):\n",
    "    return 10 / n\n",
    "\n",
    "with ThreadPoolExecutor() as executor:\n",
    "    future = executor.submit(task, 0)  # This will raise a ZeroDivisionError\n",
    "    try:\n",
    "        result = future.result()  # Will raise the exception\n",
    "    except Exception as e:\n",
    "        print(f\"Exception in task: {e}\")\n"
   ]
  },
  {
   "cell_type": "markdown",
   "id": "9a2f366a-8d14-4c26-b77e-64b160552a87",
   "metadata": {},
   "source": [
    "3)Global Exception Handlers:\r\n",
    "In multithreaded programs, if you want to handle uncaught exceptions globally, you can use custom exception hooks."
   ]
  },
  {
   "cell_type": "code",
   "execution_count": null,
   "id": "8d5301b5-c95d-4d68-a0f1-c636fb0c7c75",
   "metadata": {},
   "outputs": [],
   "source": [
    "import threading\n",
    "\n",
    "def handle_thread_exception(args):\n",
    "    print(f\"Unhandled exception in thread {args.thread.name}: {args.exc_value}\")\n",
    "\n",
    "threading.excepthook = handle_thread_exception\n",
    "\n",
    "def thread_function():\n",
    "    raise ValueError(\"An error occurred in the thread.\")\n",
    "\n",
    "t = threading.Thread(target=thread_function)\n",
    "t.start()\n",
    "t.join()\n"
   ]
  },
  {
   "cell_type": "markdown",
   "id": "27104f35-10c2-4941-9070-bbb057bb7638",
   "metadata": {},
   "source": [
    "4)Using multiprocessing Exception Handling:\r\n",
    "In the multiprocessing module, exceptions raised in child processes do not propagate back to the parent process by default."
   ]
  },
  {
   "cell_type": "code",
   "execution_count": null,
   "id": "2f324094-8e36-44ce-9ba5-0e59c992f4e5",
   "metadata": {},
   "outputs": [],
   "source": [
    "from multiprocessing import Pool\n",
    "\n",
    "def task(n):\n",
    "    return 10 / n\n",
    "\n",
    "if __name__ == \"__main__\":\n",
    "    with Pool(2) as pool:\n",
    "        results = pool.apply_async(task, (0,))  # This will raise ZeroDivisionError\n",
    "        try:\n",
    "            print(results.get())  # Will raise the exception\n",
    "        except Exception as e:\n",
    "            print(f\"Exception in process: {e}\")\n",
    "v"
   ]
  },
  {
   "cell_type": "markdown",
   "id": "c044d61c-2e49-49ac-99d6-dd935aff9476",
   "metadata": {},
   "source": [
    "7. Create a program that uses a thread pool to calculate the factorial of numbers from 1 to 10 concurrently.\r\n",
    "Use concurrent.futures.ThreadPoolExecutor to manage the threads.\r\n",
    "\r\n",
    "\r\n"
   ]
  },
  {
   "cell_type": "code",
   "execution_count": null,
   "id": "58ba5704-c559-442c-8f0f-8a1d0705d3c6",
   "metadata": {},
   "outputs": [],
   "source": [
    "from concurrent.futures import ThreadPoolExecutor, as_completed\n",
    "\n",
    "# Function to calculate factorial\n",
    "def factorial(n):\n",
    "    result = 1\n",
    "    for i in range(2, n+1):\n",
    "        result *= i\n",
    "    return f\"Factorial of {n} is {result}\"\n",
    "\n",
    "# List of numbers from 1 to 10\n",
    "numbers = list(range(1, 11))\n",
    "\n",
    "# Create a thread pool with ThreadPoolExecutor\n",
    "with ThreadPoolExecutor() as executor:\n",
    "    # Submit tasks to the thread pool\n",
    "    futures = [executor.submit(factorial, num) for num in numbers]\n",
    "\n",
    "    # Process the results as they complete\n",
    "    for future in as_completed(futures):\n",
    "        print(future.result())\n"
   ]
  },
  {
   "cell_type": "markdown",
   "id": "3fccfb7a-27f5-47e3-901e-c455a038e801",
   "metadata": {},
   "source": [
    "8. Create a Python program that uses multiprocessing.Pool to compute the square of numbers from 1 to 10 in\n",
    "parallel. Measure the time taken to perform this computation using a pool of different sizes (e.g., 2, 4, 8\n",
    "processes)\n"
   ]
  },
  {
   "cell_type": "code",
   "execution_count": null,
   "id": "6042af94-5d59-41e6-b1f8-3401fe764c70",
   "metadata": {},
   "outputs": [],
   "source": [
    "import multiprocessing\n",
    "import time\n",
    "\n",
    "def compute_square(x):\n",
    "    return x * x\n",
    "\n",
    "def compute_squares_in_parallel(pool_size):\n",
    "    numbers = list(range(1, 11))\n",
    "\n",
    "    # Create a multiprocessing pool\n",
    "    pool = multiprocessing.Pool(processes=pool_size)\n",
    "\n",
    "    # Measure the time taken\n",
    "    start_time = time.time()\n",
    "\n",
    "    # Use the pool to compute squares in parallel\n",
    "    results = pool.map(compute_square, numbers)\n",
    "\n",
    "    # Close the pool and wait for the work to finish\n",
    "    pool.close()\n",
    "    pool.join()\n",
    "\n",
    "    # Calculate elapsed time\n",
    "    elapsed_time = time.time() - start_time\n",
    "\n",
    "    print(f\"Pool size: {pool_size}, Time taken: {elapsed_time:.4f} seconds\")\n",
    "    print(\"Results:\", results)\n",
    "\n",
    "if __name__ == \"__main__\":\n",
    "    pool_sizes = [2, 4, 8]  # Try different pool sizes\n",
    "    for size in pool_sizes:\n",
    "        compute_squares_in_parallel(size)\n"
   ]
  },
  {
   "cell_type": "code",
   "execution_count": null,
   "id": "3fa53366-6e97-4912-81fe-e49b63b32680",
   "metadata": {},
   "outputs": [],
   "source": []
  }
 ],
 "metadata": {
  "kernelspec": {
   "display_name": "Python 3 (ipykernel)",
   "language": "python",
   "name": "python3"
  },
  "language_info": {
   "codemirror_mode": {
    "name": "ipython",
    "version": 3
   },
   "file_extension": ".py",
   "mimetype": "text/x-python",
   "name": "python",
   "nbconvert_exporter": "python",
   "pygments_lexer": "ipython3",
   "version": "3.12.4"
  }
 },
 "nbformat": 4,
 "nbformat_minor": 5
}

{
 "cells": [
  {
   "cell_type": "markdown",
   "id": "420d9558-9ef5-4e52-bfe0-1ec41031a7eb",
   "metadata": {},
   "source": [
    "Theory Questions"
   ]
  },
  {
   "cell_type": "markdown",
   "id": "b750146a-9bb6-48e1-b14b-a2b9193ef622",
   "metadata": {},
   "source": [
    "1. Explain the purpose and advantages of NumPy in scientific computing and data analysis. How does it enhance Python's capabilities for numerical operations?"
   ]
  },
  {
   "cell_type": "markdown",
   "id": "83e2ccc4-ab85-45ed-b3b0-de164fd304d0",
   "metadata": {},
   "source": [
    "Purpose of NumPy in Scientific Computing and Data Analysis: NumPy (Numerical Python) is a fundamental package for scientific computing and data analysis in Python. Its primary purpose is to enable efficient numerical operations on large, multi-dimensional arrays and matrices. NumPy provides tools for performing mathematical, logical, and statistical operations on arrays, offering significant performance improvements over standard Python data structures like lists. This makes it invaluable for tasks such as numerical analysis, data processing, and machine learning.\n",
    "\n",
    "Advantages of NumPy: Efficient Memory Usage: NumPy arrays (ndarrays) use less memory compared to Python lists. They store data in contiguous blocks of memory, which enhances performance, especially for large datasets.\n",
    "\n",
    "Vectorized Operations: NumPy supports vectorized operations, allowing mathematical computations to be performed on entire arrays without the need for explicit loops. This leads to much faster execution times compared to traditional Python loops.\n",
    "\n",
    "Multi-dimensional Arrays: NumPy provides support for n-dimensional arrays, which can be used for handling complex data structures like matrices and tensors. This is useful in areas like image processing and machine learning.\n",
    "\n",
    "Broad Range of Functions: NumPy includes a comprehensive set of mathematical functions (e.g., trigonometric, algebraic, statistical) that operate on arrays, making it suitable for complex numerical computations.\n",
    "\n",
    "How NumPy Enhances Python’s Numerical Capabilities: Faster Computation: NumPy uses optimized C code under the hood, which allows for faster execution of numerical computations than using native Python loops.\n",
    "\n",
    "Advanced Indexing and Slicing: It allows for advanced array indexing, slicing, and reshaping, which makes data manipulation more intuitive and efficient."
   ]
  },
  {
   "cell_type": "markdown",
   "id": "e81271e4-f438-4660-8c63-aaa0378bc4f3",
   "metadata": {},
   "source": [
    "2. Compare and contrast np.mean() and np.average() functions in NumPy. When would you use one over the other?"
   ]
  },
  {
   "cell_type": "markdown",
   "id": "85f9c829-0d10-4844-bb81-64535935526c",
   "metadata": {},
   "source": [
    "np.mean() Definition: np.mean() calculates the arithmetic mean (simple average) of the elements in an array along the specified axis or of all elements if no axis is provided. Usage: The arithmetic mean is calculated by summing all the values in the array and dividing by the total number of elements. It treats all elements equally and doesn’t consider weights.\r\n",
    "\r\n",
    "When to Use: Use np.mean() when you want to calculate a simple, unweighted average of an array’s values. It is straightforward and quick when weights are not involved.\r\n",
    "\r\n",
    "np.average() Definition: np.average() computes the weighted average of the elements in an array. You can optionally provide weights to influence the contribution of each element to the average. Usage: If weights are provided, the function calculates a weighted average, where each element in the array contributes to the mean according to its corresponding weight. If no weights are provided, np.average() behaves similarly to np.mean() and computes the simple arithmetic mean.\r\n",
    "When to Use: Use np.average() when you need to calculate a weighted mean, where certain elements should have a larger or smaller influence on the average. If no weights are provided, it can still be used as a substitute for np.mean()."
   ]
  },
  {
   "cell_type": "markdown",
   "id": "a869911b-0ca4-429e-9430-93bbe493e089",
   "metadata": {},
   "source": [
    "3. Describe the methods for reversing a NumPy array along different axes. Provide examples for 1D and 2D arrays."
   ]
  },
  {
   "cell_type": "markdown",
   "id": "bda86d61-dda2-4f4e-ab2a-11c297e0bd99",
   "metadata": {},
   "source": [
    "Reversing a NumPy array along different axes can be useful in many scenarios, such as manipulating data or performing operations where order matters. NumPy offers several ways to reverse arrays, and the method you use depends on the dimensionality of the array (1D, 2D, etc.) and which axis you want to reverse.-1]"
   ]
  },
  {
   "cell_type": "code",
   "execution_count": 78,
   "id": "65f251da-a247-4f8c-9519-f72fd14c0a26",
   "metadata": {},
   "outputs": [],
   "source": [
    "import numpy as np\n",
    "\n",
    "# 1D array\n",
    "arr_1d = np.array([1, 2, 3, 4, 5])\n",
    "\n",
    "# Reverse using slicing\n",
    "reversed_arr = arr_1d[::-1]\n"
   ]
  },
  {
   "cell_type": "code",
   "execution_count": 80,
   "id": "72056851-c41d-4662-8867-7b970b191e06",
   "metadata": {},
   "outputs": [],
   "source": [
    "# 2D array (matrix)\n",
    "arr_2d = np.array([[1, 2, 3],\n",
    "                   [4, 5, 6],\n",
    "                   [7, 8, 9]])\n",
    "\n",
    "# Reverse row\n",
    "reversed_rows = arr_2d[::-1, :]\n",
    "\n",
    "# Reverse columns\n",
    "reversed_cols = arr_2d[:, ::-1]\n",
    "\n",
    "# Reverse both rows and columns\n",
    "reversed_both = arr_2d[::-1, ::-1]\n"
   ]
  },
  {
   "cell_type": "markdown",
   "id": "b756d4d9-a4f9-4fc8-8646-f0a98724d379",
   "metadata": {},
   "source": [
    "4. How can you determine the data type of elements in a NumPy array? Discuss the importance of data types in memory management and performance."
   ]
  },
  {
   "cell_type": "markdown",
   "id": "a9ef8b8e-f05c-4c1c-8bb4-d97be7275240",
   "metadata": {},
   "source": [
    "Determining the Data Type of Elements in a NumPy Array In NumPy, you can easily determine the data type of elements in an array using the dtype attribute. This attribute provides information about the type of data stored in the array (e.g., integers, floats, strings, etc.). Here's how you can determine the data type:\n",
    "\n",
    "Importance of Data Types in NumPy for Memory Management and Performance Data types play a critical role in memory management and performance in NumPy. Choosing the correct data type allows you to optimize both memory usage and computational efficiency.\n",
    "\n",
    "Memory Management Efficient Memory Usage:\n",
    "NumPy arrays are homogeneous, meaning all elements in an array must have the same data type. This allows NumPy to store data in a contiguous block of memory, leading to efficient memory usage and faster access times. For example, an array of int8 (8-bit integers) takes significantly less memory than an array of int64 (64-bit integers). Choosing the right data type based on the expected range of values is crucial for managing memory in large datasets."
   ]
  },
  {
   "cell_type": "code",
   "execution_count": 84,
   "id": "c4904267-fc02-45c7-b4fe-b91e1cfd1bd4",
   "metadata": {},
   "outputs": [
    {
     "name": "stdout",
     "output_type": "stream",
     "text": [
      "4\n",
      "32\n"
     ]
    }
   ],
   "source": [
    "arr_int8 = np.array([1, 2, 3, 4], dtype=np.int8)\n",
    "arr_int64 = np.array([1, 2, 3, 4], dtype=np.int64)\n",
    "print(arr_int8.nbytes)\n",
    "print(arr_int64.nbytes)\n"
   ]
  },
  {
   "cell_type": "markdown",
   "id": "3f670426-8d22-4e4e-828e-dd53671163e0",
   "metadata": {},
   "source": [
    "Memory Overhead:\n",
    "\n",
    "Choosing a data type with unnecessarily large precision can result in wasted memory. For instance, if you know your data consists of small integers, using a 64-bit float would be inefficient and consume more memory than necessary.\n",
    "\n",
    "Performance Faster Computation:\n",
    "NumPy operations are heavily optimized for specific data types, allowing for fast computations when working with arrays. When the correct data type is used, NumPy can leverage vectorized operations and low-level libraries (like BLAS and LAPACK) to accelerate performance.\n",
    "\n",
    "Numerical Precision:\n",
    "\n",
    "Data types directly impact the precision and accuracy of numerical computations. For example, using float32 for large datasets may lead to precision loss in very large numbers or small decimal differences. In contrast, float64 provides higher precision but requires more memory and processing power\n",
    "\n"
   ]
  },
  {
   "cell_type": "markdown",
   "id": "522979a1-eece-4e52-b352-922b3bb868b8",
   "metadata": {},
   "source": [
    "5. Define ndarrays in NumPy and explain their key features. How do they differ from standard Python lists?"
   ]
  },
  {
   "cell_type": "markdown",
   "id": "cbece16e-bd2f-49a3-a42c-594ae9fb55c4",
   "metadata": {},
   "source": [
    "What are ndarrays in NumPy? An ndarray (N-dimensional array) is the central data structure of NumPy. It represents a homogeneous, multidimensional array of fixed-size items. Each element in the array is of the same type, and the number of dimensions (or axes) is known as the array's rank. These arrays allow efficient storage and manipulation of large datasets, and they are highly optimized for performance in numerical computations.\n",
    "\n",
    "Key Features of ndarrays Homogeneity:\n",
    "\n",
    "All elements in a NumPy ndarray must be of the same data type (e.g., all integers, floats, etc.). This allows for better memory management and faster operations compared to Python lists, which can store elements of different types. Fixed Size:\n",
    "\n",
    "Once created, the size (number of elements) of an ndarray is fixed. You can’t change its size after the array is created, although you can reshape it (change its structure without changing the total number of elements). Multidimensional:\n",
    "\n",
    "An ndarray can have multiple dimensions (2D, 3D, etc.), unlike Python lists, which are primarily 1D but can be nested to simulate multidimensionality. In NumPy, you can efficiently work with arrays of any dimension. Efficient Memory Management:\n",
    "\n",
    "ndarrays are stored in a contiguous block of memory, which allows for fast access and better cache utilization. This is much more efficient than Python lists, where elements can be scattered across different memory locations."
   ]
  },
  {
   "cell_type": "code",
   "execution_count": 91,
   "id": "f359b4c6-3227-4507-8bc6-5e6470e79dc9",
   "metadata": {},
   "outputs": [],
   "source": [
    "import numpy as np\n",
    "arr = np.array([1, 2, 3, 4])\n",
    "result = arr * 2\n"
   ]
  },
  {
   "cell_type": "markdown",
   "id": "6534ef3a-0e0a-4586-91ba-a99b60e5e3fa",
   "metadata": {},
   "source": [
    "Broadcasting:\n",
    "\n",
    "Broadcasting allows NumPy to perform operations on arrays of different shapes by automatically expanding the smaller array along the appropriate dimension. This makes many mathematical operations more flexible and efficient. Slicing and Indexing:\n",
    "\n",
    "ndarrays support advanced slicing and indexing, including multi-dimensional slicing and boolean indexing, which makes accessing specific parts of the array efficient.\n",
    "\n",
    "How ndarrays Differ from Python Lists Feature ndarrays (NumPy Arrays) Python Lists Homogeneity Elements must be of the same type Can store elements of different data types Fixed Size Size is fixed; cannot append or remove elements Dynamic size; can append, remove, or modify Memory Storage Stored in contiguous blocks of memory (compact) Elements can be scattered in memory Performance Faster due to vectorized operations and low-level optimizations Slower, especially for large datasets or loops Broadcasting Supports broadcasting (operations on arrays of different shapes) No support for broadcasting Slicing More powerful slicing and indexing, supports multidimensional Limited slicing capabilities, no multi-dimensional slicing"
   ]
  },
  {
   "cell_type": "markdown",
   "id": "eb0a20b3-43ee-4da5-8b7e-17b2bb51f50d",
   "metadata": {},
   "source": [
    "6. Analyze the performance benefits of NumPy arrays over Python lists for large-scale numerical operations."
   ]
  },
  {
   "cell_type": "markdown",
   "id": "efdea12b-47d3-4c86-986c-948f5e961615",
   "metadata": {},
   "source": [
    "Memory Efficiency Homogeneous Data: NumPy arrays store elements of a single data type, allowing them to be more compact and efficient in memory compared to Python lists, which can store elements of different types. This homogeneity allows NumPy arrays to be stored in contiguous blocks of memory. Fixed Size: NumPy arrays have a fixed size, which reduces overhead because memory is allocated once when the array is created. In contrast, Python lists are dynamic and need to resize their underlying data structure as elements are added, which involves costly memory reallocation"
   ]
  },
  {
   "cell_type": "code",
   "execution_count": 96,
   "id": "dc558047-b421-415d-8830-b8a268dba805",
   "metadata": {},
   "outputs": [
    {
     "name": "stdout",
     "output_type": "stream",
     "text": [
      "4000\n",
      "8056\n"
     ]
    }
   ],
   "source": [
    "import numpy as np\n",
    "import sys\n",
    "\n",
    "# Create a NumPy array and a Python list\n",
    "arr = np.arange(1000)\n",
    "lst = list(range(1000))\n",
    "\n",
    "# Memory usage comparison\n",
    "print(arr.nbytes)  # NumPy array memory: 8000 bytes\n",
    "print(sys.getsizeof(lst))  # Python list memory: ~9000+ bytes (depends on system)\n"
   ]
  },
  {
   "cell_type": "markdown",
   "id": "abeb1e27-2a4c-4228-95a4-6a40b34c9641",
   "metadata": {},
   "source": [
    "Vectorized Operations (No Loops Needed) NumPy provides vectorized operations, meaning operations are performed element-wise across entire arrays without the need for explicit loops. This is a key feature of NumPy that contributes to its high performance."
   ]
  },
  {
   "cell_type": "code",
   "execution_count": 99,
   "id": "28623aee-8f2f-43de-8942-973e7e6f4ce3",
   "metadata": {},
   "outputs": [
    {
     "name": "stdout",
     "output_type": "stream",
     "text": [
      "NumPy time: 0.0010027885437011719\n",
      "List time: 0.053385019302368164\n"
     ]
    }
   ],
   "source": [
    "import numpy as np\n",
    "import time\n",
    "\n",
    "# Create a large array\n",
    "arr = np.arange(1000000)\n",
    "lst = list(range(1000000))\n",
    "\n",
    "# NumPy array multiplication (vectorized)\n",
    "start_time = time.time()\n",
    "arr_result = arr * 2\n",
    "print(\"NumPy time:\", time.time() - start_time)  # Very fast\n",
    "\n",
    "# Python list multiplication (with a loop)\n",
    "start_time = time.time()\n",
    "lst_result = [x * 2 for x in lst]\n",
    "print(\"List time:\", time.time() - start_time)  # Much slower\n"
   ]
  },
  {
   "cell_type": "markdown",
   "id": "9afa78fe-6196-42d6-a959-2b519b96b310",
   "metadata": {},
   "source": [
    "Low-level Optimization and Use of C/Fortran Libraries Low-level implementation: NumPy is implemented in C and Fortran, which are compiled languages known for their speed. When operations are performed on NumPy arrays, they call these underlying libraries, bypassing the overhead of Python’s interpreted execution. BLAS and LAPACK integration: NumPy uses highly optimized libraries like BLAS (Basic Linear Algebra Subprograms) and LAPACK (Linear Algebra Package) for numerical computations, further enhancing performance in tasks like matrix operations, linear algebra, and FFTs.\r\n"
   ]
  },
  {
   "cell_type": "markdown",
   "id": "8b21114b-2b29-4266-a442-83c8241ed7ea",
   "metadata": {},
   "source": [
    "Broadcasting for Efficient Computation Broadcasting: NumPy’s broadcasting mechanism allows arrays of different shapes to be combined in element-wise operations without creating copies or using loops. This leads to both memory and computational efficiency.\n",
    "\n",
    "Performance Benefits: Memory Efficiency: NumPy arrays are more memory-efficient than Python lists due to homogeneous data and fixed sizes. Vectorized Operations: NumPy allows for fast, vectorized operations without the need for explicit loops. Low-level Optimizations: NumPy uses optimized C, BLAS, and LAPACK libraries, enabling high-speed computations. Contiguous Memory and Cache Optimization: NumPy arrays use contiguous memory blocks, improving cache performance. Broadcasting: Efficient handling of arrays with different shapes, reducing the need for complex loops. Slicing and In-place Operations: Fast slicing and in-place operations, minimizing memory and performance overhead."
   ]
  },
  {
   "cell_type": "markdown",
   "id": "21147010-292a-4849-a2c1-b7c08e182391",
   "metadata": {},
   "source": [
    "\n",
    "7. Compare vstack() and hstack() functions in NumPy. Provide examples demonstrating their usage and output"
   ]
  },
  {
   "cell_type": "markdown",
   "id": "165fe2f0-d03c-416c-911e-ea939dc8cb9e",
   "metadata": {},
   "source": [
    "np.vstack() (Vertical Stack) Purpose: Stacks arrays vertically (row-wise). Axis of Concatenation: It stacks arrays along the first axis (axis=0). Shape Requirements: The input arrays must have the same number of columns (or same shape along the second axis)"
   ]
  },
  {
   "cell_type": "markdown",
   "id": "c29cf5d9-602c-46dd-999e-8115ce590186",
   "metadata": {},
   "source": [
    "np.hstack() (Horizontal Stack) Purpose: Stacks arrays horizontally (column-wise). Axis of Concatenation: It stacks arrays along the second axis (axis=1). Shape Requirements: The input arrays must have the same number of rows (or same shape along the first axis)"
   ]
  },
  {
   "cell_type": "markdown",
   "id": "6dddb67a-17b7-45ff-a4d4-bcb521603587",
   "metadata": {},
   "source": [
    "Usage and Outputs:- vstack() is used when you want to stack arrays vertically, increasing the number of rows in the resulting array. hstack() is used when you want to stack arrays horizontally, increasing the number of columns in the resulting array."
   ]
  },
  {
   "cell_type": "markdown",
   "id": "ef0085a6-842f-49a3-bf66-95b0831c0bd5",
   "metadata": {},
   "source": [
    "8. Explain the differences between fliplr() and flipud() methods in NumPy, including their effects on various array dimensions."
   ]
  },
  {
   "cell_type": "markdown",
   "id": "6b6f98f8-0c58-45e4-980d-144616b78158",
   "metadata": {},
   "source": [
    "np.fliplr() (Flip Left to Right) Purpose: fliplr() reverses the columns of a 2D array, effectively flipping it horizontally (left to right). Dimensional Requirement: The input array must be at least 2D. It flips along the second axis (axis=1). Effect: The elements in each row are reversed, while the rows themselves remain in the same order"
   ]
  },
  {
   "cell_type": "markdown",
   "id": "50603812-3292-4f9b-8af9-534c903dd559",
   "metadata": {},
   "source": [
    "np.flipud() (Flip Up to Down) Purpose: flipud() reverses the rows of a 2D array, effectively flipping it vertically (up to down). Dimensional Requirement: flipud() works on arrays of any dimension (1D, 2D, etc.). It flips along the first axis (axis=0). Effect: The rows of the array are reversed, while the columns remain in the same order."
   ]
  },
  {
   "cell_type": "markdown",
   "id": "6080327d-c65c-4259-b142-3886c03dd771",
   "metadata": {},
   "source": [
    "ffects on Higher-Dimensional Arrays For arrays with more than 2 dimensions, both fliplr() and flipud() work on specific axes.\n",
    "\n",
    "fliplr(): Works on the second axis (axis=1), so it will reverse the columns of 2D slices along other dimensions. flipud(): Works on the first axis (axis=0), so it will reverse the rows of 2D slices along other dimensions"
   ]
  },
  {
   "cell_type": "markdown",
   "id": "c9b64506-b65b-4cd7-8bc7-3b8229954be9",
   "metadata": {},
   "source": [
    "9. Discuss the functionality of the array_split() method in NumPy. How does it handle uneven splits?"
   ]
  },
  {
   "cell_type": "markdown",
   "id": "2b1264e2-1d51-4616-818b-b6a1bf8eea75",
   "metadata": {},
   "source": [
    "The array_split() method in NumPy is used to split an array into multiple sub-arrays. Unlike the split() method, which requires the input array to be evenly divisible by the number of splits, array_split() can handle uneven splits, making it more flexible\n",
    "\n",
    "Key Features of array_split(): Input Array: It works with arrays of any dimensionality (1D, 2D, 3D, etc.). Number of Splits: You can specify the number of sub-arrays you want to create.\n",
    "\n",
    "Handling Uneven Splits: When the number of elements in the array is not evenly divisible by the number of splits, array_split() distributes the extra elements to the earlier sub-arrays. The sub-arrays are created such that their sizes differ by at most 1 element."
   ]
  },
  {
   "cell_type": "markdown",
   "id": "ab86640f-7671-4495-9072-15ec9c595ae3",
   "metadata": {},
   "source": [
    "10. Explain the concepts of vectorization and broadcasting in NumPy. How do they contribute to efficient array operations?"
   ]
  },
  {
   "cell_type": "markdown",
   "id": "a238d03f-3f26-42a1-be48-49ff6569ee14",
   "metadata": {},
   "source": [
    "Vectorization: Definition: Vectorization in NumPy refers to the process of applying operations directly to entire arrays (or vectors) without using explicit Python loops. Instead of iterating over individual elements one-by-one, NumPy allows element-wise operations to be performed on the entire array simultaneously. Why It’s Efficient: NumPy operations are implemented in C, which means they bypass the performance limitations of Python loops"
   ]
  },
  {
   "cell_type": "code",
   "execution_count": 115,
   "id": "b18db645-8a68-4d74-bab0-7bffdd3ababf",
   "metadata": {},
   "outputs": [
    {
     "name": "stdout",
     "output_type": "stream",
     "text": [
      "[ 6  8 10 12]\n"
     ]
    }
   ],
   "source": [
    "import numpy as np\n",
    "\n",
    "# Two arrays\n",
    "arr1 = np.array([1, 2, 3, 4])\n",
    "arr2 = np.array([5, 6, 7, 8])\n",
    "\n",
    "# Vectorized addition (element-wise)\n",
    "result = arr1 + arr2\n",
    "print(result)\n"
   ]
  },
  {
   "cell_type": "markdown",
   "id": "3fc818a2-83f8-401a-bd2c-759018b25598",
   "metadata": {},
   "source": [
    "Advantages of Vectorization: Performance: Since NumPy performs operations at the lower-level C language, vectorized operations are much faster than pure Python loops. Readability: The code is cleaner and more concise, avoiding complex loops.\n",
    "\n",
    "Broadcasting: Definition: Broadcasting is a mechanism in NumPy that allows operations on arrays of different shapes. Instead of requiring arrays to have identical shapes for element-wise operations, NumPy automatically \"broadcasts\" smaller arrays across the larger array so that the shapes match. How It Works: When performing operations on arrays of different shapes, NumPy stretches (or broadcasts) the smaller array along a dimension to match the shape of the larger array, as long as they follow certain broadcasting rules."
   ]
  },
  {
   "cell_type": "code",
   "execution_count": null,
   "id": "ecf1abaf-ee9f-4703-b6aa-198874a71656",
   "metadata": {},
   "outputs": [],
   "source": []
  },
  {
   "cell_type": "markdown",
   "id": "0f65fd43-3401-4603-8d07-f6a70b1685fd",
   "metadata": {},
   "source": [
    "Practical Questions"
   ]
  },
  {
   "cell_type": "markdown",
   "id": "53c219ee-972c-4908-ba84-476af27e3be1",
   "metadata": {},
   "source": [
    "1) Create a 3x3 NumPy array with random integers between 1 and 100. Then, interchange its rows and columns."
   ]
  },
  {
   "cell_type": "code",
   "execution_count": 8,
   "id": "7c3a7a0d-9d3f-4139-be80-de3524fb384e",
   "metadata": {},
   "outputs": [
    {
     "name": "stdout",
     "output_type": "stream",
     "text": [
      "[[1 2 3]\n",
      " [4 5 6]\n",
      " [7 8 9]]\n"
     ]
    }
   ],
   "source": [
    "import numpy as np\n",
    "a = np.array([[1,2,3] ,[4,5,6] ,[7,8,9]])\n",
    "print(a)\n"
   ]
  },
  {
   "cell_type": "code",
   "execution_count": 10,
   "id": "c28acb42-b0db-4244-8075-86cd5d19b232",
   "metadata": {},
   "outputs": [
    {
     "name": "stdout",
     "output_type": "stream",
     "text": [
      "[[1 4 7]\n",
      " [2 5 8]\n",
      " [3 6 9]]\n"
     ]
    }
   ],
   "source": [
    "#exchange rows and columns\n",
    "tran = a.T\n",
    "print(tran)"
   ]
  },
  {
   "cell_type": "markdown",
   "id": "d861e65e-df22-45b4-bf30-47d786c43405",
   "metadata": {},
   "source": [
    "2) Generate a 1D NumPy array with 10 elements. Reshape it into a 2x5 array, then into a 5x2 array"
   ]
  },
  {
   "cell_type": "code",
   "execution_count": 13,
   "id": "c6a8fbf5-e02b-4cfa-9e1c-40788d35ccff",
   "metadata": {},
   "outputs": [
    {
     "name": "stdout",
     "output_type": "stream",
     "text": [
      "[ 1  2  3  4  5  6  7  8  9 10]\n"
     ]
    }
   ],
   "source": [
    "arr = np.array([1,2,3,4,5,6,7,8,9,10])\n",
    "print(arr)"
   ]
  },
  {
   "cell_type": "code",
   "execution_count": 27,
   "id": "5f6cd325-1900-4d63-89c1-9ed6a43f2687",
   "metadata": {},
   "outputs": [
    {
     "name": "stdout",
     "output_type": "stream",
     "text": [
      "[[ 1  2  3  4  5]\n",
      " [ 6  7  8  9 10]]\n"
     ]
    }
   ],
   "source": [
    "# reshape into 2X5\n",
    "arr = arr.reshape(2,5)\n",
    "print(arr)"
   ]
  },
  {
   "cell_type": "code",
   "execution_count": 29,
   "id": "b05ddf4c-b7c1-4dfc-9887-6631876df7bd",
   "metadata": {},
   "outputs": [
    {
     "name": "stdout",
     "output_type": "stream",
     "text": [
      "[[ 1  2]\n",
      " [ 3  4]\n",
      " [ 5  6]\n",
      " [ 7  8]\n",
      " [ 9 10]]\n"
     ]
    }
   ],
   "source": [
    "# reshape into 5X2\n",
    "arr = arr.reshape(5,2)\n",
    "print(arr)"
   ]
  },
  {
   "cell_type": "markdown",
   "id": "0cf115e5-cadb-4471-a177-85e89c0e8469",
   "metadata": {},
   "source": [
    "3) Create a 4x4 NumPy array with random float values. Add a border of zeros around it, resulting in a 6x6 array"
   ]
  },
  {
   "cell_type": "code",
   "execution_count": 36,
   "id": "95c47b51-5a3c-4c39-afa1-4e0e6c1a3c71",
   "metadata": {},
   "outputs": [
    {
     "name": "stdout",
     "output_type": "stream",
     "text": [
      "[[0.         0.         0.         0.         0.         0.        ]\n",
      " [0.         0.06527641 0.63383891 0.13059403 0.53678355 0.        ]\n",
      " [0.         0.60250636 0.62275646 0.24258798 0.80099218 0.        ]\n",
      " [0.         0.86296267 0.41450776 0.93894008 0.43830367 0.        ]\n",
      " [0.         0.65133049 0.75902917 0.8676112  0.20764711 0.        ]\n",
      " [0.         0.         0.         0.         0.         0.        ]]\n"
     ]
    }
   ],
   "source": [
    "arr = np.random.rand(4,4)\n",
    "arr1 = np.zeros((6,6))\n",
    "arr1[1:5,1:5]=arr\n",
    "print(arr1)"
   ]
  },
  {
   "cell_type": "markdown",
   "id": "bdf90a61-4996-44bb-a815-8dc19788f006",
   "metadata": {},
   "source": [
    "4) Using NumPy, create an array of integers from 10 to 60 with a step of 5."
   ]
  },
  {
   "cell_type": "code",
   "execution_count": 41,
   "id": "5acc167f-aef5-4695-beb0-0f2cd05f1d0b",
   "metadata": {},
   "outputs": [
    {
     "name": "stdout",
     "output_type": "stream",
     "text": [
      "[10 15 20 25 30 35 40 45 50 55 60]\n"
     ]
    }
   ],
   "source": [
    "import numpy as np\n",
    "\n",
    "\n",
    "array = np.arange(10, 61, 5)\n",
    "print(array)\n"
   ]
  },
  {
   "cell_type": "markdown",
   "id": "2aac3016-2aa1-42fc-82f1-5d0e1a283a48",
   "metadata": {},
   "source": [
    "5) Create a NumPy array of strings ['python', 'numpy', 'pandas']. Apply different case transformations (uppercase, lowercase, title case, etc.) to each element"
   ]
  },
  {
   "cell_type": "code",
   "execution_count": 44,
   "id": "295eac1f-c009-4544-a56d-7604d6cf46b2",
   "metadata": {},
   "outputs": [
    {
     "name": "stdout",
     "output_type": "stream",
     "text": [
      "Original array: ['python' 'numpy' 'pandas']\n",
      "Uppercase: ['PYTHON' 'NUMPY' 'PANDAS']\n",
      "Lowercase: ['python' 'numpy' 'pandas']\n",
      "Title Case: ['Python' 'Numpy' 'Pandas']\n",
      "Capitalize: ['Python' 'Numpy' 'Pandas']\n"
     ]
    }
   ],
   "source": [
    "import numpy as np\n",
    "\n",
    "\n",
    "string_array = np.array(['python', 'numpy', 'pandas'])\n",
    "\n",
    "uppercase_array = np.char.upper(string_array)\n",
    "lowercase_array = np.char.lower(string_array)\n",
    "titlecase_array = np.char.title(string_array)\n",
    "capitalize_array = np.char.capitalize(string_array)\n",
    "print(\"Original array:\", string_array)\n",
    "print(\"Uppercase:\", uppercase_array)\n",
    "print(\"Lowercase:\", lowercase_array)\n",
    "print(\"Title Case:\", titlecase_array)\n",
    "print(\"Capitalize:\", capitalize_array)\n"
   ]
  },
  {
   "cell_type": "markdown",
   "id": "33a30da2-9357-40cc-a653-fc42b550a3d1",
   "metadata": {},
   "source": [
    "6) Generate a NumPy array of words. Insert a space between each character of every word in the array "
   ]
  },
  {
   "cell_type": "code",
   "execution_count": 47,
   "id": "f6334203-7e8d-4ef0-89fa-7ed1272b7e55",
   "metadata": {},
   "outputs": [
    {
     "name": "stdout",
     "output_type": "stream",
     "text": [
      "Original array: ['hello' 'world' 'numpy' 'python']\n",
      "Spaced array: ['h e l l o' 'w o r l d' 'n u m p y' 'p y t h o n']\n"
     ]
    }
   ],
   "source": [
    "import numpy as np\n",
    "\n",
    "\n",
    "words_array = np.array(['hello', 'world', 'numpy', 'python'])\n",
    "\n",
    "spaced_array = np.char.join(' ', words_array)\n",
    "\n",
    "print(\"Original array:\", words_array)\n",
    "print(\"Spaced array:\", spaced_array)"
   ]
  },
  {
   "cell_type": "markdown",
   "id": "ad38f47a-8d21-4f5d-93e8-ab7062d64da5",
   "metadata": {},
   "source": [
    "7) Create two 2D NumPy arrays and perform element-wise addition, subtraction, multiplication, and division"
   ]
  },
  {
   "cell_type": "code",
   "execution_count": 50,
   "id": "5e2c509d-011f-4272-a114-7c246133ae37",
   "metadata": {},
   "outputs": [
    {
     "name": "stdout",
     "output_type": "stream",
     "text": [
      "Array 1:\n",
      " [[1 2 3]\n",
      " [4 5 6]]\n",
      "Array 2:\n",
      " [[ 7  8  9]\n",
      " [10 11 12]]\n",
      "Addition:\n",
      " [[ 8 10 12]\n",
      " [14 16 18]]\n",
      "Subtraction:\n",
      " [[-6 -6 -6]\n",
      " [-6 -6 -6]]\n",
      "Multiplication:\n",
      " [[ 7 16 27]\n",
      " [40 55 72]]\n",
      "Division:\n",
      " [[0.14285714 0.25       0.33333333]\n",
      " [0.4        0.45454545 0.5       ]]\n"
     ]
    }
   ],
   "source": [
    "import numpy as np\n",
    "\n",
    "array1 = np.array([[1, 2, 3],\n",
    "                   [4, 5, 6]])\n",
    "\n",
    "array2 = np.array([[7, 8, 9],\n",
    "                   [10, 11, 12]])\n",
    "\n",
    "addition = array1 + array2\n",
    "subtraction = array1 - array2\n",
    "multiplication = array1 * array2\n",
    "division = array1 / array2\n",
    "\n",
    "print(\"Array 1:\\n\", array1)\n",
    "print(\"Array 2:\\n\", array2)\n",
    "print(\"Addition:\\n\", addition)\n",
    "print(\"Subtraction:\\n\", subtraction)\n",
    "print(\"Multiplication:\\n\", multiplication)\n",
    "print(\"Division:\\n\", division)\n"
   ]
  },
  {
   "cell_type": "markdown",
   "id": "74513648-7544-45e4-82a3-749a8016d8f0",
   "metadata": {},
   "source": [
    "8. Use NumPy to create a 5x5 identity matrix, then extract its diagonal elements."
   ]
  },
  {
   "cell_type": "code",
   "execution_count": 53,
   "id": "892703d7-3768-4985-9ab1-a6a39b20b6ff",
   "metadata": {},
   "outputs": [
    {
     "name": "stdout",
     "output_type": "stream",
     "text": [
      "Identity Matrix:\n",
      " [[1. 0. 0. 0. 0.]\n",
      " [0. 1. 0. 0. 0.]\n",
      " [0. 0. 1. 0. 0.]\n",
      " [0. 0. 0. 1. 0.]\n",
      " [0. 0. 0. 0. 1.]]\n",
      "Diagonal Elements: [1. 1. 1. 1. 1.]\n"
     ]
    }
   ],
   "source": [
    "import numpy as np\n",
    "\n",
    "identity_matrix = np.eye(5)\n",
    "\n",
    "diagonal_elements = np.diag(identity_matrix)\n",
    "\n",
    "print(\"Identity Matrix:\\n\", identity_matrix)\n",
    "print(\"Diagonal Elements:\", diagonal_elements)\n"
   ]
  },
  {
   "cell_type": "markdown",
   "id": "cf3c67d9-b0cc-497d-9dba-bad27d156b46",
   "metadata": {},
   "source": [
    "9. Generate a NumPy array of 100 random integers between 0 and 1000. Find and display all prime numbers in this array."
   ]
  },
  {
   "cell_type": "code",
   "execution_count": 56,
   "id": "20e3e246-9038-44d9-8908-968ad9781262",
   "metadata": {},
   "outputs": [
    {
     "name": "stdout",
     "output_type": "stream",
     "text": [
      "Random Integers: [766 408 681 652 868 570 711 670 249 754 920 257 241 438 972 604 190  91\n",
      " 683 828  25 730 579 599 823 234 111 697 145  30 636 104 848 672 669 927\n",
      " 600 322 751 208 208 466 438 197  63 776 524 547  97 622 752 883 308 598\n",
      " 603 473 722 260 395 779 275 628 987 424 246 928 865 694 381 936 631 728\n",
      " 365 648 396 236 115 830  74 261 284 982 871 424  36 351 729 446 700 217\n",
      " 580 619 136 167 673 929 639 786 158 765]\n",
      "Prime Numbers: [257, 241, 683, 599, 823, 751, 197, 547, 97, 883, 631, 619, 167, 673, 929]\n"
     ]
    }
   ],
   "source": [
    "import numpy as np\n",
    "\n",
    "\n",
    "random_integers = np.random.randint(0, 1001, size=100)\n",
    "\n",
    "\n",
    "def is_prime(num):\n",
    "    if num <= 1:\n",
    "        return False\n",
    "    for i in range(2, int(num**0.5) + 1):\n",
    "        if num % i == 0:\n",
    "            return False\n",
    "    return True\n",
    "\n",
    "\n",
    "prime_numbers = [num for num in random_integers if is_prime(num)]\n",
    "\n",
    "\n",
    "print(\"Random Integers:\", random_integers)\n",
    "print(\"Prime Numbers:\", prime_numbers)\n"
   ]
  },
  {
   "cell_type": "markdown",
   "id": "ee635c98-8306-4dcc-a50d-e3d6731a28ee",
   "metadata": {},
   "source": [
    "10. Create a NumPy array representing daily temperatures for a month. Calculate and display the weekly averages."
   ]
  },
  {
   "cell_type": "code",
   "execution_count": 63,
   "id": "24dd0a0d-5be7-4e59-98a6-ab0cf45a2e99",
   "metadata": {},
   "outputs": [
    {
     "name": "stdout",
     "output_type": "stream",
     "text": [
      "Daily Temperatures for a Month:\n",
      " [36 38  0 33  3 13 31  4 -6 -4 15 23 -4  3 34  2 19 -3 -2 18  7 36 29 18\n",
      " 17 29 11 -1 12 35]\n",
      "Weekly Temperatures:\n",
      " [[36 38  0 33  3 13 31  4 -6 -4]\n",
      " [15 23 -4  3 34  2 19 -3 -2 18]\n",
      " [ 7 36 29 18 17 29 11 -1 12 35]]\n",
      "Weekly Averages: [14.8 10.5 19.3]\n"
     ]
    }
   ],
   "source": [
    "import numpy as np\n",
    "\n",
    "daily_temperatures = np.random.randint(-10, 41, size=30)\n",
    "\n",
    "\n",
    "weekly_temperatures = daily_temperatures.reshape(3, -1)\n",
    "\n",
    "\n",
    "weekly_averages = np.mean(weekly_temperatures, axis=1)\n",
    "\n",
    "\n",
    "print(\"Daily Temperatures for a Month:\\n\", daily_temperatures)\n",
    "print(\"Weekly Temperatures:\\n\", weekly_temperatures)\n",
    "print(\"Weekly Averages:\", weekly_averages)\n"
   ]
  },
  {
   "cell_type": "code",
   "execution_count": null,
   "id": "7498a07f-8d06-4aee-a37f-d6514d9ada12",
   "metadata": {},
   "outputs": [],
   "source": []
  }
 ],
 "metadata": {
  "kernelspec": {
   "display_name": "Python 3 (ipykernel)",
   "language": "python",
   "name": "python3"
  },
  "language_info": {
   "codemirror_mode": {
    "name": "ipython",
    "version": 3
   },
   "file_extension": ".py",
   "mimetype": "text/x-python",
   "name": "python",
   "nbconvert_exporter": "python",
   "pygments_lexer": "ipython3",
   "version": "3.12.4"
  }
 },
 "nbformat": 4,
 "nbformat_minor": 5
}

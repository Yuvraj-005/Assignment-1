{
 "cells": [
  {
   "cell_type": "markdown",
   "id": "b745e6c9-85a9-412a-bfbe-6a07dd177e52",
   "metadata": {},
   "source": [
    "1) What are the five key concepts of Object-Oriented Programming (OOP)?"
   ]
  },
  {
   "cell_type": "markdown",
   "id": "d9a831bf-ce58-4c83-a5b4-5ea77bf679e7",
   "metadata": {},
   "source": [
    "Encapsulation: Encapsulation also restricts direct access to some of an object’s components, which is important for hiding the internal state of the object and protecting its integrity.\r\n",
    "\r\n",
    "Abstraction: Abstraction simplifies complex systems by modeling classes based on the essential properties and behaviors relevant to the context. It hides the unnecessary details and exposes only what is needed to the user, allowing for simpler and more efficient interaction.\r\n",
    "\r\n",
    "Inheritance: Inheritance allows a class to inherit properties and methods from another class.\r\n",
    "\r\n",
    "Polymorphism: Polymorphism allows objects of different classes to be treated as objects of a common superclass. It enables one interface to be used for a general class of actions, with specific actions determined at runtime\r\n",
    "\r\n",
    "Class and Object:\r\n",
    "\r\n",
    "Class is a blueprint for creating objects. It defines a data structure and methods that an object created from the class can use. Object is an instance of a class. It represents an entity that has attributes and behaviors defined by the class. Each object can interact with other objects and execute methods within its own context."
   ]
  },
  {
   "cell_type": "markdown",
   "id": "a68fb2bc-1211-4663-a955-4c4b3d037521",
   "metadata": {},
   "source": [
    "2) Write a Python class for a Car with attributes for make, model, and year. Include a method to display the car's information."
   ]
  },
  {
   "cell_type": "code",
   "execution_count": 10,
   "id": "6bae10e3-83d6-4de3-a07f-e8840b6a259a",
   "metadata": {},
   "outputs": [
    {
     "name": "stdout",
     "output_type": "stream",
     "text": [
      "Car Information: toyota 1996 supra\n"
     ]
    }
   ],
   "source": [
    "class car:\n",
    "    def __init__(self,make,model,year):\n",
    "        self.make = make\n",
    "        self.model = model\n",
    "        self.year  = year\n",
    "    def display(self):\n",
    "        print(f\"Car Information: {self.make} {self.year} {self.model}\")\n",
    "my_car = car(\"toyota\",\"supra\",1996)\n",
    "my_car.display()\n",
    "    "
   ]
  },
  {
   "cell_type": "markdown",
   "id": "b0de53f3-ff6f-4768-899e-ef151d0a2392",
   "metadata": {},
   "source": [
    "3.Explain the difference between instance methods and class methods. Provide an example of each."
   ]
  },
  {
   "cell_type": "markdown",
   "id": "34b93791-621d-4cb9-879b-494261fba80a",
   "metadata": {},
   "source": [
    "Instance Methods:\n",
    "\n",
    "Belong to individual objects (instances) of a class. Can access and modify instance attributes, i.e., data unique to each instance. Require an instance of the class to be called. The first parameter of an instance method is always self, which refers to the instance itself.\n",
    "\n",
    "Class Methods:\n",
    "\n",
    "Belong to the class itself rather than instances of the class. They are marked with the @classmethod decorator. They can access class attributes but not instance attributes. The first parameter is cls, which refers to the class itself, not a specific instance."
   ]
  },
  {
   "cell_type": "code",
   "execution_count": 17,
   "id": "9cb65310-be28-43e1-af47-e1b02783415d",
   "metadata": {},
   "outputs": [
    {
     "name": "stdout",
     "output_type": "stream",
     "text": [
      "Car Information: toyota 1996 supra\n",
      "Class is : auto mobile\n"
     ]
    }
   ],
   "source": [
    "class car:\n",
    "    vehicle_type=\"auto mobile\"\n",
    "    def __init__(self,make,model,year):\n",
    "        self.make = make\n",
    "        self.model = model\n",
    "        self.year  = year\n",
    "    def display(self):\n",
    "        print(f\"Car Information: {self.make} {self.year} {self.model}\")\n",
    "    def display_vehicle_type(cls):\n",
    "        print(f\"Class is : {cls.vehicle_type}\")\n",
    "my_car = car(\"toyota\",\"supra\",1996)\n",
    "my_car.display()\n",
    "my_car.display_vehicle_type()"
   ]
  },
  {
   "cell_type": "markdown",
   "id": "f07833b2-fe30-4b7a-870f-3336ef474c66",
   "metadata": {},
   "source": [
    "4. How does Python implement method overloading? Give an example."
   ]
  },
  {
   "cell_type": "markdown",
   "id": "c10f14f0-8434-4c7c-af7a-00f8f30e247a",
   "metadata": {},
   "source": [
    "Python doesn't support traditional method overloading (i.e, defining multiple methods with the same name but different signatures) like other languages such as Java or C++. Instead, Python uses default parameters, variable-length arguments (args, kwargs), or conditional logic within a single method to mimic the behavior of overloading."
   ]
  },
  {
   "cell_type": "code",
   "execution_count": 45,
   "id": "5e96a3db-4d2a-4769-b2ac-2eb8a135e79f",
   "metadata": {},
   "outputs": [
    {
     "name": "stdout",
     "output_type": "stream",
     "text": [
      "10\n",
      "30\n",
      "60\n"
     ]
    }
   ],
   "source": [
    "class calculator:\n",
    "    def add(self,a,b=0,c=0):\n",
    "        return a+b+c;\n",
    "cal = calculator()\n",
    "print(cal.add(10))\n",
    "print(cal.add(10,20))\n",
    "print(cal.add(10,20,30))"
   ]
  },
  {
   "cell_type": "markdown",
   "id": "ba830e2d-5033-40f1-8874-28929367fc5e",
   "metadata": {},
   "source": [
    "5.What are the three types of access modifiers in Python? How are they denoted?"
   ]
  },
  {
   "cell_type": "markdown",
   "id": "60230879-fc1b-4487-ab89-eb90d2cf6d32",
   "metadata": {},
   "source": [
    "Public:\r\n",
    "\r\n",
    "Denoted by: No leading underscores (e.g.my_variable) Access: Public attributes and methods are accessible from both inside and outside the class. By default, all attributes and methods in Python are public."
   ]
  },
  {
   "cell_type": "code",
   "execution_count": 50,
   "id": "525e66fc-0144-40d4-932b-acb4b4520279",
   "metadata": {},
   "outputs": [],
   "source": [
    "class MyClass:\n",
    "    def __init__(self):\n",
    "        self.public_var = \"I am public\"\n"
   ]
  },
  {
   "cell_type": "markdown",
   "id": "bbaf25fc-e751-455c-9409-f30dacef4b8b",
   "metadata": {},
   "source": [
    "Protected:\r\n",
    "\r\n",
    "Denoted by: A single leading underscore (e.g. _my_variable) Access: Protected attributes and methods are meant to be accessed within the class and its subclasses. However, they are still accessible from outside the class, but it's by convention that they should not be accessed directly"
   ]
  },
  {
   "cell_type": "code",
   "execution_count": 65,
   "id": "0faa0355-2bcc-421d-9aad-8ffe3e41a370",
   "metadata": {},
   "outputs": [],
   "source": [
    "class MyClass:\n",
    "    def __init__(self):\n",
    "        self._protected_var = \"I am protected\"\n"
   ]
  },
  {
   "cell_type": "markdown",
   "id": "518f2444-630c-411d-93f4-6a24628849e2",
   "metadata": {},
   "source": [
    "Private:\r\n",
    "\r\n",
    "Denoted by: Two leading underscores (e.g.__my_variable) Access: Private attributes and methods are intended to be accessed only within the class where they are defined. Python uses name mangling to make it harder to access private attributes directly from outside the class, though they can still be accessed indirectly."
   ]
  },
  {
   "cell_type": "code",
   "execution_count": 56,
   "id": "112eb93b-5c8b-4104-a734-cbb8fe2453a6",
   "metadata": {},
   "outputs": [],
   "source": [
    "class MyClass:\n",
    "    def __init__(self):\n",
    "        self.__private_var = \"I am private\"\n"
   ]
  },
  {
   "cell_type": "markdown",
   "id": "83be7531-b64e-40ba-b0ad-f37b93a1f7ed",
   "metadata": {},
   "source": [
    "6.Describe the five types of inheritance in Python. Provide a simple example of multiple inheritance."
   ]
  },
  {
   "cell_type": "markdown",
   "id": "7b7fcae8-2d30-4008-b7dd-55b4980fd405",
   "metadata": {},
   "source": [
    "1)Single Inheritance: Involves one class inheriting from a single parent class.\r\n",
    "nce.s."
   ]
  },
  {
   "cell_type": "markdown",
   "id": "e4f48616-4257-4f13-be37-09646edb262a",
   "metadata": {},
   "source": [
    "2)Multiple Inheritance: A class can inherit from more than one parent class, combining attributes and methods from all parents.\n"
   ]
  },
  {
   "cell_type": "markdown",
   "id": "c2454521-6807-4be1-98e7-a53f92ca3b94",
   "metadata": {},
   "source": [
    "3)Multilevel Inheritance: A chain of inheritance where a class is derived from another derived class."
   ]
  },
  {
   "cell_type": "markdown",
   "id": "da6a54fd-d48b-46b0-9c14-540caf58b735",
   "metadata": {},
   "source": [
    "4)Hierarchical Inheritance: Multiple child classes inherit from the same parent class."
   ]
  },
  {
   "cell_type": "markdown",
   "id": "d77c7e6d-06f9-45a7-b80c-a6f88799813c",
   "metadata": {},
   "source": [
    "5)Hybrid Inheritance: A combination of two or more types of inheritance, usually involving multiple and hierarchical inheritance."
   ]
  },
  {
   "cell_type": "code",
   "execution_count": 79,
   "id": "2706bafd-8e20-4739-b139-bb5de9c1770e",
   "metadata": {},
   "outputs": [
    {
     "name": "stdout",
     "output_type": "stream",
     "text": [
      "engine is :V8\n",
      "Music System :Boss\n"
     ]
    }
   ],
   "source": [
    "#MULTIPLE INHERITANCE\n",
    "class engine:\n",
    "    def __init__(self,eng):\n",
    "        self.eng=eng\n",
    "    def display(self):\n",
    "        print(f\"engine is :{self.eng}\")\n",
    "class music:\n",
    "    def __init__(self,mus):\n",
    "        self.mus=mus\n",
    "    def displaymusic(self):\n",
    "        print(f\"Music System :{self.mus}\")\n",
    "class car(engine,music):\n",
    "    def __init__(self,eng,mus):\n",
    "        engine.__init__(self, eng)  \n",
    "        music.__init__(self, mus) \n",
    "my_car = car(\"V8\",\"Boss\")\n",
    "my_car.display()\n",
    "my_car.displaymusic()\n"
   ]
  },
  {
   "cell_type": "markdown",
   "id": "36ef1d2e-42bc-4e81-8247-0d274cf198ec",
   "metadata": {},
   "source": [
    "7) What is the Method Resolution Order (MRO) in Python? How can you retrieve it programmatically?os.\r\n",
    "\r\n",
    "\r\n",
    "[ ]\r\n"
   ]
  },
  {
   "cell_type": "markdown",
   "id": "092ea321-9538-4d66-8d4d-f0c48710a6b8",
   "metadata": {},
   "source": [
    "The Method Resolution Order (MRO) defines the order in which Python looks for a method or attribute in a hierarchy of classes during inheritance. MRO is especially important in cases of multiple inheritance to avoid ambiguity and ensure a consistent method search path. Python uses the C3 Linearization (or C3 superclass linearization) algorithm to determine this order.\r\n",
    "\r\n",
    "MRO ensures that:\r\n",
    "\r\n",
    "A method is first searched in the current class. If not found, it proceeds to parent classes according to the inheritance order. It avoids inheritance conflicts in multiple inheritance scenarios."
   ]
  },
  {
   "cell_type": "code",
   "execution_count": 86,
   "id": "c5721126-8430-4ddc-b828-29c77239f15e",
   "metadata": {},
   "outputs": [
    {
     "name": "stdout",
     "output_type": "stream",
     "text": [
      "(<class '__main__.C'>, <class '__main__.B'>, <class '__main__.A'>, <class 'object'>)\n"
     ]
    }
   ],
   "source": [
    "class A:\n",
    "    pass\n",
    "\n",
    "class B(A):\n",
    "    pass\n",
    "\n",
    "class C(B):\n",
    "    pass\n",
    "\n",
    "print(C.__mro__)\n"
   ]
  },
  {
   "cell_type": "markdown",
   "id": "85c07397-dfb9-4b3d-b83b-e5c4f68bb118",
   "metadata": {},
   "source": [
    "8) Create an abstract base class Shape with an abstract method area(). Then create two subclasses Circle and Rectangle that implement the area() method"
   ]
  },
  {
   "cell_type": "code",
   "execution_count": 95,
   "id": "4bcbd722-5534-468b-a904-e8370756432d",
   "metadata": {},
   "outputs": [
    {
     "name": "stdout",
     "output_type": "stream",
     "text": [
      "radius of circle: \n"
     ]
    },
    {
     "name": "stdin",
     "output_type": "stream",
     "text": [
      " 5\n"
     ]
    },
    {
     "name": "stdout",
     "output_type": "stream",
     "text": [
      "78.54\n",
      "length of rect: \n"
     ]
    },
    {
     "name": "stdin",
     "output_type": "stream",
     "text": [
      " 3\n"
     ]
    },
    {
     "name": "stdout",
     "output_type": "stream",
     "text": [
      "breadth of rect: \n"
     ]
    },
    {
     "name": "stdin",
     "output_type": "stream",
     "text": [
      " 4\n"
     ]
    },
    {
     "name": "stdout",
     "output_type": "stream",
     "text": [
      "12\n"
     ]
    }
   ],
   "source": [
    "from abc import ABC,abstractmethod\n",
    "import math\n",
    "class shape(ABC):\n",
    "    @abstractmethod\n",
    "    def area():\n",
    "        pass\n",
    "class circle(shape):\n",
    "    def __init__(self,radius):\n",
    "        self.radius=radius\n",
    "    def area(self):\n",
    "        return math.pi*(self.radius**2)\n",
    "class rectangle(shape):\n",
    "    def __init__(self,len,wid):\n",
    "        self.len=len\n",
    "        self.wid=wid\n",
    "    def area(self):\n",
    "        return self.len*self.wid\n",
    "print(\"radius of circle: \")\n",
    "n = int(input())\n",
    "cir = circle(n)\n",
    "print(f\"{cir.area():.2f}\")\n",
    "print(\"length of rect: \")\n",
    "m = int(input())\n",
    "print(\"breadth of rect: \")\n",
    "k = int(input())\n",
    "rec = rectangle(m,k)\n",
    "print(rec.area())"
   ]
  },
  {
   "cell_type": "markdown",
   "id": "a4ab4877-e091-4153-a733-32e19c9e62c6",
   "metadata": {},
   "source": [
    "9) Demonstrate polymorphism by creating a function that can work with different shape objects to calculate and print their areas."
   ]
  },
  {
   "cell_type": "code",
   "execution_count": 102,
   "id": "c75be3bc-0d2c-442a-962b-84a89a2f83a5",
   "metadata": {},
   "outputs": [
    {
     "name": "stdout",
     "output_type": "stream",
     "text": [
      "radius of circle: \n"
     ]
    },
    {
     "name": "stdin",
     "output_type": "stream",
     "text": [
      " 5\n"
     ]
    },
    {
     "name": "stdout",
     "output_type": "stream",
     "text": [
      "Area of shape 78.54\n",
      "length of rect: \n"
     ]
    },
    {
     "name": "stdin",
     "output_type": "stream",
     "text": [
      " 3\n"
     ]
    },
    {
     "name": "stdout",
     "output_type": "stream",
     "text": [
      "breadth of rect: \n"
     ]
    },
    {
     "name": "stdin",
     "output_type": "stream",
     "text": [
      " 4\n"
     ]
    },
    {
     "name": "stdout",
     "output_type": "stream",
     "text": [
      "Area of shape 12.00\n"
     ]
    }
   ],
   "source": [
    "from abc import ABC,abstractmethod\n",
    "import math\n",
    "class shape(ABC):\n",
    "    @abstractmethod\n",
    "    def area():\n",
    "        pass\n",
    "class circle(shape):\n",
    "    def __init__(self,radius):\n",
    "        self.radius=radius\n",
    "    def area(self):\n",
    "        return math.pi*(self.radius**2)\n",
    "class rectangle(shape):\n",
    "    def __init__(self,len,wid):\n",
    "        self.len=len\n",
    "        self.wid=wid\n",
    "    def area(self):\n",
    "        return self.len*self.wid\n",
    "def calculate_area(shape):\n",
    "    print(f\"Area of shape {shape.area():.2f}\")\n",
    "print(\"radius of circle: \")\n",
    "n = int(input())\n",
    "cir = circle(n)\n",
    "calculate_area(cir)\n",
    "print(\"length of rect: \")\n",
    "m = int(input())\n",
    "print(\"breadth of rect: \")\n",
    "k = int(input())\n",
    "rec = rectangle(m,k)\n",
    "calculate_area(rec)"
   ]
  },
  {
   "cell_type": "markdown",
   "id": "af0b5410-4814-4550-853e-e854ce10d206",
   "metadata": {},
   "source": [
    "10)  Implement encapsulation in a `BankAccount` class with private attributes for `balance` and\r\n",
    "`account_number`. Include methods for deposit, withdrawal, and balance inquiry."
   ]
  },
  {
   "cell_type": "code",
   "execution_count": null,
   "id": "331a6fb4-1760-4190-be0a-e91e7a1a1ea8",
   "metadata": {},
   "outputs": [],
   "source": [
    "class BankAccount:\n",
    "    def __init__(self, account_number):\n",
    "        self.__account_number = account_number  # Private attribute\n",
    "        self.__balance = 0  # Private attribute\n",
    "\n",
    "    def deposit(self, amount):\n",
    "        if amount > 0:\n",
    "            self.__balance += amount\n",
    "            print(f\"Deposited: ${amount:.2f}. New Balance: ${self.__balance:.2f}\")\n",
    "        else:\n",
    "            print(\"Deposit amount must be positive.\")\n",
    "\n",
    "    def withdraw(self, amount):\n",
    "        if 0 < amount <= self.__balance:\n",
    "            self.__balance -= amount\n",
    "            print(f\"Withdrew: ${amount:.2f}. New Balance: ${self.__balance:.2f}\")\n",
    "        else:\n",
    "            print(\"Withdrawal amount must be positive and less than or equal to the balance.\")\n",
    "\n",
    "    def get_balance(self):\n",
    "        return self.__balance\n",
    "\n",
    "    def get_account_number(self):\n",
    "        return self.__account_number\n",
    "\n",
    "# Example usage\n",
    "account = BankAccount(\"123456789\")\n",
    "account.deposit(1000)\n",
    "account.withdraw(250)\n",
    "print(f\"Current Balance: ${account.get_balance():.2f}\")\n",
    "print(f\"Account Number: {account.get_account_number()}\")\n"
   ]
  },
  {
   "cell_type": "markdown",
   "id": "415d968e-3806-4c78-83ba-7cb196a54b94",
   "metadata": {},
   "source": [
    "11) Write a class that overrides the __str__ and __add__ magic methods. What will these methods allow you to do?"
   ]
  },
  {
   "cell_type": "code",
   "execution_count": 109,
   "id": "0f5e99ad-d38a-4e2c-9482-65eb3975c890",
   "metadata": {},
   "outputs": [
    {
     "name": "stdout",
     "output_type": "stream",
     "text": [
      "Vector(2, 3)\n",
      "Vector(7, 10)\n"
     ]
    }
   ],
   "source": [
    "class Vector:\n",
    "    def __init__(self, x, y):\n",
    "        self.x = x\n",
    "        self.y = y\n",
    "\n",
    "    def __str__(self):\n",
    "        return f\"Vector({self.x}, {self.y})\"\n",
    "\n",
    "    def __add__(self, other):\n",
    "        if isinstance(other, Vector):\n",
    "            return Vector(self.x + other.x, self.y + other.y)\n",
    "        return NotImplemented\n",
    "\n",
    "# Example usage\n",
    "v1 = Vector(2, 3)\n",
    "v2 = Vector(5, 7)\n",
    "\n",
    "# Using __str__ method\n",
    "print(v1)\n",
    "\n",
    "# Using __add__ method\n",
    "v3 = v1 + v2\n",
    "print(v3)\n"
   ]
  },
  {
   "cell_type": "markdown",
   "id": "d4508cf8-af6c-4c5c-8fde-ad5013c09712",
   "metadata": {},
   "source": [
    "str: Provides a user-friendly string representation of the object, making it easier to understand what the object represents when printed. add: Enables the use of the + operator to combine instances of the class in a meaningful way, allowing for intuitive mathematical operations on objects of that class."
   ]
  },
  {
   "cell_type": "markdown",
   "id": "90da6a9d-af96-4aea-9b09-36182ad414e1",
   "metadata": {},
   "source": [
    "12. Create a decorator that measures and prints the execution time of a function."
   ]
  },
  {
   "cell_type": "code",
   "execution_count": 114,
   "id": "b59151d1-6cb8-44f8-8c6d-8b7b9975d9fb",
   "metadata": {},
   "outputs": [
    {
     "name": "stdout",
     "output_type": "stream",
     "text": [
      "Execution time of slow_function: 2.0009 seconds\n",
      "Function complete!\n"
     ]
    }
   ],
   "source": [
    "import time\n",
    "\n",
    "def time_it(func):\n",
    "    def wrapper(*args, **kwargs):\n",
    "        start_time = time.time()  # Record the start time\n",
    "        result = func(*args, **kwargs)  # Call the original function\n",
    "        end_time = time.time()  # Record the end time\n",
    "        execution_time = end_time - start_time  # Calculate execution time\n",
    "        print(f\"Execution time of {func.__name__}: {execution_time:.4f} seconds\")\n",
    "        return result  # Return the result of the original function\n",
    "    return wrapper\n",
    "\n",
    "# Example usage\n",
    "@time_it\n",
    "def slow_function():\n",
    "    time.sleep(2)  # Simulate a slow function with a 2-second delay\n",
    "    return \"Function complete!\"\n",
    "\n",
    "result = slow_function()\n",
    "print(result)\n"
   ]
  },
  {
   "cell_type": "markdown",
   "id": "f3260d2b-5b87-4744-8620-7220b0131828",
   "metadata": {},
   "source": [
    "13) Explain the concept of the Diamond Problem in multiple inheritance. How does Python resolve it?"
   ]
  },
  {
   "cell_type": "markdown",
   "id": "1f65d847-f1ed-4b0d-9001-8b52156107d8",
   "metadata": {},
   "source": [
    "The Diamond Problem is a common issue that arises in multiple inheritance scenarios, particularly in object-oriented programming languages like Python. It occurs when a class inherits from two classes that have a common ancestor, leading to ambiguity about which parent class's methods or attributes should be used.\n",
    "\n",
    "key points :- on How Python Resolves the Diamond Problem: Method Resolution Order (MRO):\n",
    "\n",
    "Python defines a specific order in which classes are searched when looking for a method or attribute. The MRO can be viewed using the mro attribute or the mro() method. Left-to-Right Depth-First Search:\n",
    "\n",
    "The MRO considers the order of inheritance from left to right and ensures that classes are not repeated. The algorithm prioritizes the order in which classes are defined to maintain a consistent resolution path"
   ]
  },
  {
   "cell_type": "code",
   "execution_count": 120,
   "id": "70eae4a6-c7fb-4b0b-86d2-2578102740ca",
   "metadata": {},
   "outputs": [
    {
     "name": "stdout",
     "output_type": "stream",
     "text": [
      "Hello from B\n",
      "[<class '__main__.D'>, <class '__main__.B'>, <class '__main__.C'>, <class '__main__.A'>, <class 'object'>]\n"
     ]
    }
   ],
   "source": [
    "class A:\n",
    "    def greet(self):\n",
    "        return \"Hello from A\"\n",
    "\n",
    "class B(A):\n",
    "    def greet(self):\n",
    "        return \"Hello from B\"\n",
    "\n",
    "class C(A):\n",
    "    def greet(self):\n",
    "        return \"Hello from C\"\n",
    "\n",
    "class D(B,C):\n",
    "    pass\n",
    "\n",
    "# Creating an instance of D\n",
    "d = D()\n",
    "print(d.greet())\n",
    "\n",
    "# Checking the Method Resolution Order\n",
    "print(D.mro())\n"
   ]
  },
  {
   "cell_type": "markdown",
   "id": "ccfa0515-a84e-4714-a928-00b67ae6f7d4",
   "metadata": {},
   "source": [
    "Write a class method that keeps track of the number of instances created from a class"
   ]
  },
  {
   "cell_type": "code",
   "execution_count": 123,
   "id": "2e36aba6-b469-42cd-b129-1dcb38763d66",
   "metadata": {},
   "outputs": [
    {
     "name": "stdout",
     "output_type": "stream",
     "text": [
      "Number of instances created: 3\n"
     ]
    }
   ],
   "source": [
    "class InstanceCounter:\n",
    "    instance_count = 0  # Class variable to keep track of the number of instances\n",
    "\n",
    "    def __init__(self):\n",
    "        InstanceCounter.instance_count += 1  # Increment count on every instance creation\n",
    "\n",
    "    @classmethod\n",
    "    def get_instance_count(cls):\n",
    "        return cls.instance_count  # Return the current count of instances\n",
    "\n",
    "# Example usage\n",
    "a = InstanceCounter()\n",
    "b = InstanceCounter()\n",
    "c = InstanceCounter()\n",
    "\n",
    "print(f\"Number of instances created: {InstanceCounter.get_instance_count()}\")\n"
   ]
  },
  {
   "cell_type": "markdown",
   "id": "99cb29a3-87b6-4140-b0ec-a2b7d6716a42",
   "metadata": {},
   "source": [
    "15) Implement a static method in a class that checks if a given year is a leap year."
   ]
  }
 ],
 "metadata": {
  "kernelspec": {
   "display_name": "Python 3 (ipykernel)",
   "language": "python",
   "name": "python3"
  },
  "language_info": {
   "codemirror_mode": {
    "name": "ipython",
    "version": 3
   },
   "file_extension": ".py",
   "mimetype": "text/x-python",
   "name": "python",
   "nbconvert_exporter": "python",
   "pygments_lexer": "ipython3",
   "version": "3.12.4"
  }
 },
 "nbformat": 4,
 "nbformat_minor": 5
}

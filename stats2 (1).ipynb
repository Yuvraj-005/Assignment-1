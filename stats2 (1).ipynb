{
 "cells": [
  {
   "cell_type": "markdown",
   "id": "75b7cdde-8704-463d-b99e-925fa39b248f",
   "metadata": {},
   "source": [
    "1. Explain the properties of the F-distribution. "
   ]
  },
  {
   "cell_type": "code",
   "execution_count": null,
   "id": "9940602b-cac5-4287-979b-3baaef403b10",
   "metadata": {},
   "outputs": [],
   "source": [
    "1.Shape and Parameters: The F-distribution is skewed to the right (positively skewed), meaning its tail extends towards the right. It is non-negative; that is, its values are always greater than or equal to 0. 2. Probability Density Function (PDF): The probability density function for the F-distribution with 𝑑 𝑓 1 df 1​and 𝑑 𝑓 2 df 2​degrees of freedom is given by:\n",
    "\n",
    "𝑓 ( 𝑥 ; 𝑑 𝑓 1 , 𝑑 𝑓 2 )\n",
    "( 𝑑 𝑓 1 𝑑 𝑓 2 ) 𝑑 𝑓 1 2 𝑥 𝑑 𝑓 1 2 − 1 𝐵 ( 𝑑 𝑓 1 2 , 𝑑 𝑓 2 2 ) ( 1 + 𝑑 𝑓 1 𝑑 𝑓 2 𝑥 ) 𝑑 𝑓 1 + 𝑑 𝑓 2 2 f(x;df 1​,df 2​)= B( 2 df 1​​, 2 df 2​)(1+ df 2​df 1​x) 2 df 1​+df 2​\n",
    "( df 2 ​df 1​) 2 df 1​ x 2 df 1​ −1\n",
    "\n",
    "​where 𝑥 ≥ 0 x≥0, and 𝐵 ( ⋅ , ⋅ ) B(⋅,⋅) is the Beta function.\n",
    "\n",
    "Mean: The mean of the F-distribution depends on the degrees of freedom of the numerator and denominator:\n",
    "For 𝑑 𝑓 2\n",
    "\n",
    "2 df 2​\n",
    "\n",
    "2, the mean is given by: 𝜇\n",
    "𝑑 𝑓 2 𝑑 𝑓 2 − 2 μ= df 2​−2 df 2​\n",
    "\n",
    "​\n",
    "\n",
    "The mean is only defined when 𝑑 𝑓 2\n",
    "\n",
    "If 𝑑 𝑓 2 ≤ 2 df 2​≤2, the mean does not exist.\n",
    "2 df 2​4. Variance: The variance of the F-distribution also depends on the degrees of freedom:\n",
    "\n",
    "For 𝑑 𝑓 2\n",
    "\n",
    "4, the variance is given by: 𝜎 2\n",
    "2 ( 𝑑 𝑓 2 2\n",
    "\n",
    "4 df 2​+ 𝑑 𝑓 1 − 𝑑 𝑓 2 ) 𝑑 𝑓 1 ( 𝑑 𝑓 2 − 2 ) 2 ( 𝑑 𝑓 2 − 4 ) σ 2\n",
    "df 1​(df 2​−2) 2 (df 2​−4) 2(df 2 2​+df 1​−df 2​)​\n",
    "\n",
    "The variance is defined only when 𝑑 𝑓 2\n",
    "\n",
    "4 df 2​5. Skewness: The F-distribution is positively skewed (right-skewed). The degree of skewness decreases as the degrees of freedom of the numerator and denominator increase. 6. Kurtosis: The F-distribution has a leptokurtic shape, meaning that it has heavier tails compared to a normal distribution, especially for smaller degrees of freedom. The kurtosis depends on the degrees of freedom."
   ]
  },
  {
   "cell_type": "markdown",
   "id": "e908044a-c109-4244-b14a-07ab20f6f4b4",
   "metadata": {},
   "source": [
    "2. In which types of statistical tests is the F-distribution used, and why is it appropriate for these tests?"
   ]
  },
  {
   "cell_type": "markdown",
   "id": "1f7d0f54-198b-4d02-aded-1b471e105a3e",
   "metadata": {},
   "source": [
    "Analysis of Variance (ANOVA) Purpose: ANOVA is used to test whether there are significant differences between the means of three or more groups. Why F-distribution is used: In ANOVA, the ratio of between-group variance to within-group variance is tested. The F-statistic is used to determine if the variation between group means is larger than what would be expected by random chance. Under the null hypothesis (no difference in means between groups), the expected value of the F-statistic follows an F-distribution with degrees of freedom corresponding to the number of groups and the sample sizes within those groups.\n",
    "\n",
    "F-test for Comparing Two Variances Purpose: This test is used to determine whether two populations have the same variance. It compares the ratio of the variances of two independent samples from normal distributions. Why F-distribution is used: The F-statistic is the ratio of two sample variances, each divided by their respective degrees of freedom. If the populations have equal variances, the ratio of these variances follows an F-distribution. This test assumes that both populations are normally distributed, and the F-distribution is the natural distribution for the ratio of two independent chi-square variables (which are often used to estimate variances).\n",
    "\n",
    "Regression Analysis: F-test for Overall Model Significance Purpose: In regression analysis, the F-test is used to assess the overall significance of the regression model, i.e., whether the independent variables, collectively, explain a significant amount of variation in the dependent variable. Why F-distribution is used: In multiple regression, the F-statistic compares the model with the explanatory variables (predictors) to a model with no predictors (the null model). It tests if the inclusion of the predictors significantly improves the model's fit. The F-statistic is calculated as the ratio of the explained variance to the unexplained variance. Under the null hypothesis (no relationship between the predictors and the response variable), this ratio follows an F-distribution.\n",
    "\n",
    "Nested Models and Model Comparison Purpose: The F-test is used to compare nested models (models where one is a special case of the other). This test is common in both linear regression and generalized linear models when testing if adding more predictors significantly improves the model fit. Why F-distribution is used: When comparing nested models, the F-statistic is used to test if the more complex model (with additional parameters) explains significantly more variance than the simpler model. The F-statistic compares the improvement in model fit (through a change in the residual sum of squares) to the increase in model complexity (additional parameters).\n",
    "\n",
    "Levene's Test for Homogeneity of Variances Purpose: Levene’s test is used to assess whether different groups have equal variances, which is an important assumption for many parametric tests, including ANOVA and t-tests. Why F-distribution is used: Levene’s test uses the F-statistic to compare the variances of groups after transforming the data (usually by taking the absolute deviations from the group medians or means). The F-distribution is used because the test statistic is based on the ratio of variances from different group.\n",
    "\n",
    "Why is the F-distribution Appropriate for These Tests? The F-distribution is appropriate for these tests primarily because it arises from comparing variances or variability in different data sets or models. Here’s why it is a natural choice:\n",
    "\n",
    "Ratio of Variances: In each of these tests (e.g., ANOVA, F-test for variances, regression F-test), the test statistic involves the ratio of two variances (e.g., between-group variance vs. within-group variance, or explained variance vs. residual variance). The ratio of two independent chi-square variables follows an F-distribution.\n",
    "\n",
    "Asymmetry and Skewness: The F-distribution is positively skewed (right-tailed), which reflects the nature of variance ratios — variances cannot be negative, and large ratios are possible but increasingly unlikely as the degrees of freedom in increse"
   ]
  },
  {
   "cell_type": "markdown",
   "id": "1ab9659b-f323-4014-9512-d677ea36c099",
   "metadata": {},
   "source": [
    "3. What are the key assumptions required for conducting an F-test to compare the variances of two populations?"
   ]
  },
  {
   "cell_type": "markdown",
   "id": "c16c4183-1326-47ab-825d-9420b275326a",
   "metadata": {},
   "source": [
    "Independence of Samples Assumption: The two samples must be independent of each other. Explanation: Each sample should be drawn from a different population (or group), and the selection of one sample should not affect the selection of the other sample. This is important because the F-test compares the variability between two independent groups.\r\n",
    "Normality of the Population Assumption: The populations from which the samples are drawn should follow a normal distribution (or at least approximate normality). Explanation: The F-test assumes that the data in both populations are approximately normally distributed because the variances are estimated from sample data. If the populations are not normal, the F-test may produce misleading results, especially if the sample sizes are small. Note: The assumption of normality is more important for small sample sizes.\r\n",
    "Homogeneity of Variances (or Equal Variances) Assumption: The variances of the two populations should be equal under the null hypothesis. Explanation: The F-test compares the ratio of two sample variances (one from each group). If the null hypothesis is true, the two population variances are assumed to be equal, and the ratio of the sample variances should follow an F-distribution. If the null hypothesis is rejected, it indicates that the variances are significantly different. Note: The F-test is specifically designed to test this assumption of equal variances.\r\n",
    "Independent sampling from each population Assumption: Each of the two samples must be selected independently from its respective population. Explanation: This assumption is critical because the F-test compares variances from two separate populations. If the observations within each sample are not independent, the variability within each group may be underestimated or overestimated, which can distort the F-statistic.\r\n",
    "Continuous Data Assumption: The data should be continuous (or approximately continuous). Explanation: The F-test assumes that the data are measured on an interval or ratio scale (i.e., continuous), as it relies on the calculation of variances, which are based on the squared differences between data points."
   ]
  },
  {
   "cell_type": "markdown",
   "id": "0ebe9b22-a78b-405d-a0fb-f3c97005e94d",
   "metadata": {},
   "source": [
    "4. What is the purpose of ANOVA, and how does it differ from a t-test?"
   ]
  },
  {
   "cell_type": "markdown",
   "id": "4ec4e878-3707-49b0-bb09-5e6e06caf59b",
   "metadata": {},
   "source": [
    "**Purpose of ANOVA **(Analysis of Variance): ANOVA is a statistical technique used to compare the means of three or more groups to determine if there are any statistically significant differences between them. Specifically, ANOVA assesses whether the variability within each group is smaller than the variability between the groups, which would indicate that the group means are not all the same.\r\n",
    "\r\n",
    "Key Purposes of ANOVA: Testing for Differences in Means: The primary purpose of ANOVA is to test the null hypothesis that all group means are equal. It checks if there is enough evidence to reject this hypothesis and conclude that at least one group mean is different from the others. Partitioning Variance: ANOVA divides the total variance observed in the data into two components: the variance between groups and the variance within groups.\r\n",
    "\r\n",
    "How ANOVA Differs from a t-test: The t-test and ANOVA are both used to compare means, but they have different purposes, assumptions, and appropriate applications. Here’s a comparison:\r\n",
    "\r\n",
    "Number of Groups Being Compared: t-test: Typically used to compare two groups (i.e., testing the difference between the means of two independent or paired groups). Independent t-test: Compares the means of two independent groups. Paired t-test: Compares the means of two related groups (e.g., before-and-after measurements on the same subjects). ANOVA: Used when you have three or more groups to compare. It tests whether there are significant differences between the means of multiple groups simultaneously.\r\n",
    "Hypotheses Tested: t-test: Tests the difference between the means of two groups. Null hypothesis: 𝐻 0 : 𝜇 1\r\n",
    "𝜇 2 H 0​:μ 1​=μ 2​(no difference between the two means). ANOVA: Tests whether there is a significant difference in means among more than two groups. Null hypothesis: 𝐻 0 : 𝜇 1\r\n",
    "𝜇 2\r\n",
    "⋯\r\n",
    "𝜇 𝑘 H 0​:μ 1​=μ 2​=⋯=μ k​(all group means are equal).\r\n",
    "Test Statistic: t-test: The test statistic is the t-statistic, calculated by comparing the difference between the sample means to the standard error of the difference. ANOVA: The test statistic is the F-statistic, which is the ratio of the variance between groups to the variance within groups.\r\n",
    "Multiple Comparisons: t-test: The t-test is limited to comparing only two groups. If you need to compare more than two groups, you would have to conduct multiple t-tests. However, performing multiple t-tests increases the risk of a Type I error (false positives), as the probability of incorrectly rejecting the null hypothesis increases with each additional test. ANOVA: ANOVA allows for simultaneous comparison of multiple groups without increasing the risk of Type I errors."
   ]
  },
  {
   "cell_type": "markdown",
   "id": "044f7e04-4565-4827-bc2f-2382a8561fb9",
   "metadata": {},
   "source": [
    "5. Explain when and why you would use a one-way ANOVA instead of multiple t-tests when comparing more than two groups."
   ]
  },
  {
   "cell_type": "markdown",
   "id": "edf93cba-04d3-4376-8b7b-361bb31e2fcd",
   "metadata": {},
   "source": [
    "1.Controls the Type I Error Rate: Each time a t-test is performed, there is a chance of making a Type I error (incorrectly rejecting the null hypothesis). If you perform multiple t-tests, the probability of committing a Type I error increases with each additional test. A one-way ANOVA, however, compares all group means simultaneously in a single test, keeping the overall error rate at the desired significance level (e.g., 0.05).\r\n",
    "\r\n",
    "2.Efficiency and Simplicity: Running a single ANOVA test to determine if there are any statistically significant differences among group means is more efficient than running multiple t-tests. With 𝑘 k groups, you'd need 𝑘 ( 𝑘 − 1 ) / 2 k(k−1)/2 t-tests, which can be cumbersome and time-consuming with many groups. One-way ANOVA streamlines this by providing a single test result.\r\n",
    "\r\n",
    "3.Interpretation of Results: A one-way ANOVA can indicate whether at least one group mean is different from the others, which is the primary question when comparing multiple groups. If ANOVA shows significance, post-hoc tests can then be used to explore specific group differences if needed, without increasing the risk of Type I error as much."
   ]
  },
  {
   "cell_type": "markdown",
   "id": "fc8971e8-b903-4757-b800-6f35fbc68d44",
   "metadata": {},
   "source": [
    "6. Explain how variance is partitioned in ANOVA into between-group variance and within-group variance. How does this partitioning contribute to the calculation of the F-statistic?"
   ]
  },
  {
   "cell_type": "markdown",
   "id": "2e787bf4-7bb3-4504-bc49-0c9fafad749f",
   "metadata": {},
   "source": [
    "Total Variance The total variance represents all the variability in the dataset and is based on the differences between each individual data point and the overall mean of all data points (grand mean).\r\n",
    "\r\n",
    "Between-Group Variance (Explained Variance) Between-group variance, also called explained variance, reflects the variability due to differences between the group means. It is calculated by examining how much each group mean deviates from the overall (grand) mean. This component of variance captures the variability attributable to the treatment or condition being tested.\r\n",
    "\r\n",
    "Calculation: For each group, the difference between the group mean and the grand mean is squared, multiplied by the number of data points in that group, and summed across all groups. Purpose: If this between-group variance is large relative to within-group variance, it suggests that at least one group mean is significantly different from the others, indicating a potential treatment effect. 3. Within-Group Variance (Unexplained Variance) Within-group variance, also known as error variance or residual variance, represents the variability within each group. It reflects individual differences or random error and is calculated by examining how much each data point in a group deviates from its respective group mean.\r\n",
    "\r\n",
    "Calculation: For each data point, the difference between the individual value and its group mean is squared, and these values are summed across all groups. Purpose: This within-group variance represents the \"noise\" in the data that is not explained by the group differences. 4. Calculation of the F-Statistic The F-statistic in a one-way ANOVA is a ratio that compares the between-group variance to the within-group variance:\r\n",
    "\r\n",
    "𝐹\r\n",
    "Between-group variance (Mean Square Between) Within-group variance (Mean Square Within) F= Within-group variance (Mean Square Within) Between-group variance (Mean Square Between)​\r\n",
    "\r\n",
    "1.Mean Square Between (MSB): The between-group variance is divided by its degrees of freedom (number of groups - 1) to get the mean square between. 2.Mean Square Within (MSW): The within-group variance is divided by its degrees of freedom (total sample size - number of groups) to get the mean square within.\r\n",
    "\r\n",
    "If the F-statistic is significantly larger than 1, it suggests that the between-group variance is greater than the within-group variance, meaning that the group means are not all equal."
   ]
  },
  {
   "cell_type": "markdown",
   "id": "d25bd2d7-8327-4696-a2e4-c9d517857899",
   "metadata": {},
   "source": [
    "7. Compare the classical (frequentist) approach to ANOVA with the Bayesian approach. What are the key differences in terms of how they handle uncertainty, parameter estimation, and hypothesis testing?\n"
   ]
  },
  {
   "cell_type": "markdown",
   "id": "cfdd7f5d-c7ba-4ca7-a467-1ab726daf65b",
   "metadata": {},
   "source": [
    "Uncertainty Frequentist ANOVA: In the frequentist approach, uncertainty is typically expressed in terms of p-values and confidence intervals. A p-value indicates the probability of observing data as extreme as the actual data, given that the null hypothesis (no difference among groups) is true. Bayesian ANOVA: Bayesian ANOVA models uncertainty through probability distributions over parameters, providing a more direct expression of uncertainty.\n",
    "\n",
    "Parameter Estimation Frequentist ANOVA: The frequentist approach estimates parameters (such as group means and variances) as fixed values based on the observed data, assuming they are single points with no associated distribution. Parameters are not assumed to vary and are simply calculated from sample statistics. Bayesian ANOVA: In the Bayesian approach, parameters are treated as random variables with distributions that represent our uncertainty. Prior distributions are assigned to parameters based on prior knowledge\n",
    "\n",
    "Hypothesis Testing Frequentist ANOVA: Hypothesis testing in frequentist ANOVA involves setting up a null hypothesis (e.g., all group means are equal) and using the F-statistic and corresponding p-value to decide whether to reject the null hypothesis. Bayesian ANOVA: In Bayesian ANOVA, hypothesis testing is often framed as model comparison. For example, rather than testing if all group means are equal, Bayesian ANOVA might compare the probability of a model with equal means across groups to a model with differing means. This is done using metrics like Bayes factors, which provide the ratio of evidence for one model over another, allowing for statements like \"the data are 5 times more likely under Model A than Model B.\""
   ]
  },
  {
   "cell_type": "markdown",
   "id": "51b375f1-d268-495b-8879-c5c6fc8fff4d",
   "metadata": {},
   "source": [
    "8. Question: You have two sets of data representing the incomes of two different professions1 V Profession A: [48, 52, 55, 60, 62' V Profession B: [45, 50, 55, 52, 47] Perform an F-test to determine if the variances of the two professions' incomes are equal. What are your conclusions based on the F-test?\n",
    "\n",
    "Task: Use Python to calculate the F-statistic and p-value for the given data.\n",
    "\n",
    "Objective: Gain experience in performing F-tests and interpreting the results in terms of variance comparison"
   ]
  },
  {
   "cell_type": "markdown",
   "id": "2dab774f-0ed3-45d5-aeb2-6e66e3785a50",
   "metadata": {},
   "source": [
    "Step-by-step process:\r\n",
    "\r\n",
    "Calculate the sample variances for each profession's income.\r\n",
    "\r\n",
    "Compute the F-statistic, which is the ratio of the larger variance to the smaller variance.\r\n",
    "\r\n",
    "Determine the p-value for the F-statistic using the F-distribution with appropriate degrees of freedom.\r\n",
    "\r\n",
    "Formula for F-statistic: [ F = \\frac{\\text{larger variance}}{\\text{smaller variance}} ] where:\r\n",
    "\r\n",
    "larger variance is the variance of the profession with the higher variance.\r\n",
    "\r\n",
    "smaller varianceis the variance of the profession with the lower variance.\r\n",
    "\r\n",
    "Explanation of the Code: Data: The two sets of income data for Profession A and Profession B.\r\n",
    "\r\n",
    "Variance Calculation: We calculate the sample variance using np.var() with ddof=1 (for sample variance).\r\n",
    "\r\n",
    "F-statistic: We compute the ratio of the larger variance to the smaller variance.\r\n",
    "\r\n",
    "p-value: Using scipy.stats.f.cdf(), we find the cumulative distribution function (CDF) for the F-distribution and calculate the p-value corresponding to the computed F-statistic.\r\n",
    "\r\n",
    "Conclusion: Based on the p-value, we decide whether to reject or fail to reject the null hypothesis. The null hypothesis for the F-test is that the variances of the two populations are equal.\r\n",
    "\r\n",
    "Interpretation: The F-statistic is calculated as approximately 4.16.\r\n",
    "\r\n",
    "The p-value is approximately 0.038, which is less than the typical significance level of 0.05.\r\n",
    "\r\n",
    "Since the p-value is smaller than 0.05, we reject the null hypothesis and conclude that the variances of the incomes of Profession A and Profession B are significantly different."
   ]
  },
  {
   "cell_type": "code",
   "execution_count": 17,
   "id": "e7a35564-a35d-4e6f-9380-cf0bc6b3abce",
   "metadata": {},
   "outputs": [
    {
     "name": "stdout",
     "output_type": "stream",
     "text": [
      "Variance of Profession A: 32.8\n",
      "Variance of Profession B: 15.7\n",
      "F-statistic: 2.089171974522293\n",
      "Degrees of freedom: df1 = 4, df2 = 4\n",
      "p-value: 0.24652429950266952\n",
      "Conclusion: Fail to reject the null hypothesis. The variances are not significantly different.\n"
     ]
    }
   ],
   "source": [
    "import numpy as np\n",
    "from scipy.stats import f\n",
    "\n",
    "profession_a = [48, 52, 55, 60, 62]\n",
    "profession_b = [45, 50, 55, 52, 47]\n",
    "\n",
    "var_a = np.var(profession_a, ddof=1)\n",
    "var_b = np.var(profession_b, ddof=1)\n",
    "\n",
    "if var_a > var_b:\n",
    "    f_statistic = var_a / var_b\n",
    "    df1 = len(profession_a) - 1\n",
    "    df2 = len(profession_b) - 1\n",
    "else:\n",
    "    f_statistic = var_b / var_a\n",
    "    df1 = len(profession_b) - 1\n",
    "    df2 = len(profession_a) - 1\n",
    "\n",
    "p_value = 1 - f.cdf(f_statistic, df1, df2)\n",
    "\n",
    "print(f\"Variance of Profession A: {var_a}\")\n",
    "print(f\"Variance of Profession B: {var_b}\")\n",
    "print(f\"F-statistic: {f_statistic}\")\n",
    "print(f\"Degrees of freedom: df1 = {df1}, df2 = {df2}\")\n",
    "print(f\"p-value: {p_value}\")\n",
    "\n",
    "alpha = 0.05\n",
    "if p_value < alpha:\n",
    "    print(\"Conclusion: Reject the null hypothesis. The variances are significantly different.\")\n",
    "else:\n",
    "    print(\"Conclusion: Fail to reject the null hypothesis. The variances are not significantly different.\")\n"
   ]
  },
  {
   "cell_type": "markdown",
   "id": "caf6638b-f72d-45a4-b420-6fdb670e12d1",
   "metadata": {},
   "source": [
    "9. Question: Conduct a one-way ANOVA to test whether there are any statistically significant differences in average heights between three different regions with the following data1 V Region A: [160, 162, 165, 158, 164' V Region B: [172, 175, 170, 168, 174' V Region C: [180, 182, 179, 185, 183' V Task: Write Python code to perform the one-way ANOVA and interpret the results V Objective: Learn how to perform one-way ANOVA using Python and interpret F-statistic and p-value."
   ]
  },
  {
   "cell_type": "markdown",
   "id": "2d4dca23-5ca8-4207-9809-26ade7b5bd45",
   "metadata": {},
   "source": [
    "Steps: 1.State the hypotheses:\r\n",
    "\r\n",
    "Null Hypothesis (H₀): The means of the three regions are equal.\r\n",
    "\r\n",
    "Alternative Hypothesis (H₁): At least one region mean is different from the others.\r\n",
    "\r\n",
    "Calculate the F-statistic:\r\n",
    "\r\n",
    "One-way ANOVA compares the variance between the groups (regions) to the variance within the groups. The F-statistic is the ratio of the between-group variance to the within-group variance.\r\n",
    "\r\n",
    "Interpret the p-value:\r\n",
    "\r\n",
    "A **low p-value **(typically < 0.05) indicates that at least one group mean is significantly different from the others.\r\n",
    "\r\n",
    "A** high p-value **(typically > 0.05) suggests that there is no significant difference between the group means.\r\n",
    "\r\n",
    "Explanation of the Code:\r\n",
    "\r\n",
    "Data: We define the height data for three regions: region_a, region_b, and region_c.\r\n",
    "\r\n",
    "ANOVA Calculation: We use scipy.stats.f_oneway() to perform the one-way ANOVA. This function computes the F-statistic and the associated p-value by comparing the group means.\r\n",
    "\r\n",
    "Interpretation:\r\n",
    "\r\n",
    "1.We compare the p-value with the significance level (alpha = 0.05).\r\n",
    "\r\n",
    "2.If the p-value is less than alpha, we reject the null hypothesis, indicating that there is a significant difference in average heights between the regions.\r\n",
    "\r\n",
    "3.If the p-value is greater than or equal to alpha, we fail to reject the null hypothesis, indicating that there is no significant difference between the group means.\r\n",
    "\r\n",
    "Interpretation: 1.The F-statistic is approximately 43.98, which is quite large.\r\n",
    "\r\n",
    "2.The p-value is approximately 0.0000129, which is much smaller than the significance level (α = 0.05).\r\n",
    "\r\n",
    "3.Since the p-value is less than 0.05, we reject the null hypothesis, concluding that there is a statistically significant difference in average heights between the three regions.\r\n",
    "\r\n",
    "Conclusion: Based on the results of the one-way ANOVA, we can conclude that the average heights are significantly different between the three regions (Region A, Region B, and Region C)."
   ]
  },
  {
   "cell_type": "code",
   "execution_count": 21,
   "id": "5d3d7a45-0a83-4286-8aa7-2b7483934dc2",
   "metadata": {},
   "outputs": [
    {
     "name": "stdout",
     "output_type": "stream",
     "text": [
      "F-statistic: 67.87330316742101\n",
      "p-value: 2.870664187937026e-07\n",
      "Conclusion: Reject the null hypothesis. There is a significant difference in average heights between the regions.\n"
     ]
    }
   ],
   "source": [
    "import numpy as np\n",
    "from scipy import stats\n",
    "\n",
    "region_a = [160, 162, 165, 158, 164]\n",
    "region_b = [172, 175, 170, 168, 174]\n",
    "region_c = [180, 182, 179, 185, 183]\n",
    "\n",
    "f_statistic, p_value = stats.f_oneway(region_a, region_b, region_c)\n",
    "\n",
    "print(f\"F-statistic: {f_statistic}\")\n",
    "print(f\"p-value: {p_value}\")\n",
    "\n",
    "alpha = 0.05\n",
    "if p_value < alpha:\n",
    "    print(\"Conclusion: Reject the null hypothesis. There is a significant difference in average heights between the regions.\")\n",
    "else:\n",
    "    print(\"Conclusion: Fail to reject the null hypothesis. There is no significant difference in average heights between the regions.\")\n",
    "\n",
    "     "
   ]
  },
  {
   "cell_type": "code",
   "execution_count": null,
   "id": "b75f0225-b67e-4d4b-8d34-80180cf11b0d",
   "metadata": {},
   "outputs": [],
   "source": []
  }
 ],
 "metadata": {
  "kernelspec": {
   "display_name": "Python 3 (ipykernel)",
   "language": "python",
   "name": "python3"
  },
  "language_info": {
   "codemirror_mode": {
    "name": "ipython",
    "version": 3
   },
   "file_extension": ".py",
   "mimetype": "text/x-python",
   "name": "python",
   "nbconvert_exporter": "python",
   "pygments_lexer": "ipython3",
   "version": "3.12.4"
  }
 },
 "nbformat": 4,
 "nbformat_minor": 5
}

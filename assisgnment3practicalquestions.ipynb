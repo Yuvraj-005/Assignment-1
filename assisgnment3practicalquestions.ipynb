{
 "cells": [
  {
   "cell_type": "markdown",
   "id": "917e9899-5969-4a6d-8094-da8279a09180",
   "metadata": {},
   "source": [
    "1. Write a Python function that takes a list of numbers as input and returns the sum of all even numbers in\r\n",
    "the list."
   ]
  },
  {
   "cell_type": "code",
   "execution_count": 4,
   "id": "b0e88dea-6dd4-4bdf-b23d-6516dfffc10f",
   "metadata": {},
   "outputs": [
    {
     "name": "stdin",
     "output_type": "stream",
     "text": [
      "enter the numbers: 1 2 3 4 5 6 7 8\n"
     ]
    },
    {
     "name": "stdout",
     "output_type": "stream",
     "text": [
      "20\n"
     ]
    }
   ],
   "source": [
    "def sum_even():\n",
    "    arr = list(map(int,input(\"enter the numbers:\").split()))\n",
    "    sum  = 0\n",
    "    for i in arr:\n",
    "       if(i%2==0):\n",
    "           sum+=i;\n",
    "    return sum\n",
    "result = sum_even()\n",
    "print(result)"
   ]
  },
  {
   "cell_type": "markdown",
   "id": "40198c69-2649-4492-b923-082073e11ba8",
   "metadata": {},
   "source": [
    "2. Create a Python function that accepts a string and returns the reverse of that string"
   ]
  },
  {
   "cell_type": "code",
   "execution_count": null,
   "id": "0fe1fb09-3e57-4aff-ab28-03951954368a",
   "metadata": {},
   "outputs": [],
   "source": [
    "def  reverse_str(string):\n",
    "    return string[::-1]\n",
    "n = input()\n",
    "print(reverse_str(n))\n"
   ]
  },
  {
   "cell_type": "markdown",
   "id": "ec67d3de-181f-4e3c-a21a-8ef9e90123b0",
   "metadata": {},
   "source": [
    "3. Implement a Python function that takes a list of integers and returns a new list containing the squares of\n",
    "each number."
   ]
  },
  {
   "cell_type": "code",
   "execution_count": null,
   "id": "62ffa12f-8de2-4c84-be74-b83aa40f7853",
   "metadata": {},
   "outputs": [],
   "source": [
    "def square():\n",
    "    arr = list(map(int,input(\"enter the numbers:\").split()))\n",
    "    ans = []\n",
    "    for i in arr:\n",
    "        ans.append(i*i)\n",
    "    return \" \".join(map(str, ans)) \n",
    "sum = square()\n",
    "\n",
    "print(sum)\n"
   ]
  },
  {
   "cell_type": "markdown",
   "id": "09c10b02-d3fd-4ee7-a2a2-b839b5f2ed57",
   "metadata": {},
   "source": [
    " 4. Write a Python function that checks if a given number is prime or not from 1 to 200"
   ]
  },
  {
   "cell_type": "code",
   "execution_count": 38,
   "id": "52dbfcf8-2dcd-4eea-ba0b-a83fee2cba8c",
   "metadata": {},
   "outputs": [
    {
     "name": "stdin",
     "output_type": "stream",
     "text": [
      " 5\n"
     ]
    },
    {
     "name": "stdout",
     "output_type": "stream",
     "text": [
      "True\n"
     ]
    }
   ],
   "source": [
    "def check_prime(n):\n",
    "    for i in range (2,int(n**0.5)+1):\n",
    "        if(n%i==0):\n",
    "            return False\n",
    "            break\n",
    "    return True\n",
    "n = int(input())\n",
    "print(check_prime(n))"
   ]
  },
  {
   "cell_type": "markdown",
   "id": "ea726724-243b-4d67-ab5d-ab5065c0d295",
   "metadata": {},
   "source": [
    "5. Create an iterator class in Python that generates the Fibonacci sequence up to a specified number of\r\n",
    "terms."
   ]
  },
  {
   "cell_type": "code",
   "execution_count": 43,
   "id": "bcbe9c6d-f497-4b98-81bc-0dd277bc380a",
   "metadata": {},
   "outputs": [
    {
     "name": "stdin",
     "output_type": "stream",
     "text": [
      "Enter the number of terms:  10\n"
     ]
    },
    {
     "name": "stdout",
     "output_type": "stream",
     "text": [
      "Fibonacci sequence: [0, 1, 1, 2, 3, 5, 8, 13, 21, 34]\n"
     ]
    }
   ],
   "source": [
    "class FibonacciIterator:\n",
    "    def __init__(self, num_terms):\n",
    "        self.num_terms = num_terms  \n",
    "        self.a, self.b = 0, 1\n",
    "        self.current_term = 0  \n",
    "\n",
    "    def __iter__(self):\n",
    "        return self\n",
    "\n",
    "    def __next__(self):\n",
    "        if self.current_term >= self.num_terms:\n",
    "            raise StopIteration  \n",
    "        if self.current_term == 0:\n",
    "            self.current_term += 1\n",
    "            return self.a\n",
    "        elif self.current_term == 1:\n",
    "            self.current_term += 1\n",
    "            return self.b  \n",
    "        else:\n",
    "            self.current_term += 1\n",
    "            fib_value = self.a + self.b  # Calculate the next Fibonacci value\n",
    "            self.a, self.b = self.b, fib_value  # Update the values for the next iteration\n",
    "            return fib_value\n",
    "\n",
    "def fibonacci_sequence(num_terms):\n",
    "    fib_iterator = FibonacciIterator(num_terms)\n",
    "    return list(fib_iterator)\n",
    "\n",
    "# Usage\n",
    "num_terms = int(input(\"Enter the number of terms: \"))\n",
    "fib_seq = fibonacci_sequence(num_terms)\n",
    "print(\"Fibonacci sequence:\", fib_seq)\n"
   ]
  },
  {
   "cell_type": "markdown",
   "id": "ea2c9145-12b9-483f-8d82-62107fe73db7",
   "metadata": {},
   "source": [
    "6. Write a generator function in Python that yields the powers of 2 up to a given exponent"
   ]
  },
  {
   "cell_type": "code",
   "execution_count": 8,
   "id": "1a8ca39e-fd7c-4a37-a090-6e8b7f9ed8c4",
   "metadata": {},
   "outputs": [
    {
     "name": "stdin",
     "output_type": "stream",
     "text": [
      " 6\n"
     ]
    },
    {
     "name": "stdout",
     "output_type": "stream",
     "text": [
      "[1, 2, 4, 8, 16, 32, 64]\n"
     ]
    }
   ],
   "source": [
    "def expo(n):\n",
    "    for i in range (n+1):\n",
    "        yield 2**i\n",
    "n = int(input())\n",
    "result = list(expo(n))\n",
    "print(result)"
   ]
  },
  {
   "cell_type": "markdown",
   "id": "37bbce67-ccdf-48f3-99b2-344a7848d184",
   "metadata": {},
   "source": [
    "7. Implement a generator function that reads a file line by line and yields each line as a string."
   ]
  },
  {
   "cell_type": "code",
   "execution_count": null,
   "id": "491d11f3-6aa1-40bd-b484-8dfb53008140",
   "metadata": {},
   "outputs": [],
   "source": [
    "\n",
    "def read_file_line_by_line(file_path):\n",
    "    with open(file_path, 'r') as file:\n",
    "        for line in file:\n",
    "            yield line.strip()  \n",
    "\n",
    "file_path = 'example.txt'\n",
    "\n",
    "for line in read_file_line_by_line(file_path):\n",
    "    print(line)\n"
   ]
  },
  {
   "cell_type": "markdown",
   "id": "b7605ea2-094e-4dab-971f-74738757dbc3",
   "metadata": {},
   "source": [
    "8. Use a lambda function in Python to sort a list of tuples based on the second element of each tuple. \n"
   ]
  },
  {
   "cell_type": "code",
   "execution_count": 9,
   "id": "527a5ec8-32e9-4356-977e-b7db0fdd5bc3",
   "metadata": {},
   "outputs": [
    {
     "name": "stdin",
     "output_type": "stream",
     "text": [
      "Enter the number of tuples:  5\n",
      "Enter tuples :  1 2\n",
      "Enter tuples :  3 5\n",
      "Enter tuples :  2 3\n",
      "Enter tuples :  5 6\n",
      "Enter tuples :  3 4\n"
     ]
    },
    {
     "name": "stdout",
     "output_type": "stream",
     "text": [
      "Sorted list of tuples: [(1, 2), (2, 3), (3, 4), (3, 5), (5, 6)]\n"
     ]
    }
   ],
   "source": [
    "\n",
    "n = int(input(\"Enter the number of tuples: \"))\n",
    "\n",
    "tuples_list = []\n",
    "\n",
    "\n",
    "for i in range(n):\n",
    "    a, b = map(int, input(\"Enter tuples : \").split())\n",
    "    tuples_list.append((a, b))\n",
    "\n",
    "\n",
    "sorted_list = sorted(tuples_list, key=lambda x: x[1])\n",
    "\n",
    "print(\"Sorted list of tuples:\", sorted_list)\n"
   ]
  },
  {
   "cell_type": "markdown",
   "id": "7cba4230-fe3f-483f-bbf2-f317ae295662",
   "metadata": {},
   "source": [
    "9 .Write a Python program that uses `map()` to convert a list of temperatures from Celsius to Fahrenheit."
   ]
  },
  {
   "cell_type": "code",
   "execution_count": 6,
   "id": "85ad26ad-7606-47d0-9b27-d9cb04c7caa3",
   "metadata": {},
   "outputs": [
    {
     "name": "stdin",
     "output_type": "stream",
     "text": [
      " 1.2 2.4 3.6 4.8\n"
     ]
    },
    {
     "name": "stdout",
     "output_type": "stream",
     "text": [
      "34.16\n",
      "36.32\n",
      "38.48\n",
      "40.64\n"
     ]
    }
   ],
   "source": [
    "def celsius(n):\n",
    "    return (n*9/5)+32\n",
    "arr = list(map(float,input().split()))\n",
    "for i in arr:\n",
    "    print(celsius(i))\n"
   ]
  },
  {
   "cell_type": "markdown",
   "id": "c4411d80-029d-4caa-90ff-d66ef1c573db",
   "metadata": {},
   "source": [
    "10.  Create a Python program that uses `filter()` to remove all the vowels from a given string."
   ]
  },
  {
   "cell_type": "code",
   "execution_count": 13,
   "id": "c24f733c-bd57-4804-9869-ece49bd8a436",
   "metadata": {},
   "outputs": [
    {
     "name": "stdin",
     "output_type": "stream",
     "text": [
      " yuvraj\n"
     ]
    },
    {
     "name": "stdout",
     "output_type": "stream",
     "text": [
      "yvrj\n"
     ]
    }
   ],
   "source": [
    "def vovel(string):\n",
    "    vov = 'aeiouAEIOU'\n",
    "    return string not in vov\n",
    "n= input()\n",
    "fil = ''.join(filter(vovel, n))\n",
    "print(fil)"
   ]
  },
  {
   "cell_type": "markdown",
   "id": "75fdbbdb-d50e-45f8-9dd3-4e49f32c545f",
   "metadata": {},
   "source": [
    "11. Imagine an accounting routine used in a book shop. It works on a list with sublists, which look like this:\r\n",
    "\r\n",
    "\r\n",
    "\r\n",
    "\r\n",
    "Write a Python program, which returns a list with 2-tuples. Each tuple consists of the order number and the\r\n",
    "product of the price per item and the quantity. The product should be increased by 10,- € if the value of the\r\n",
    "order is smaller than 100,00 €.\r\n",
    "\r\n",
    "Write a Python program using lambda and map"
   ]
  },
  {
   "cell_type": "code",
   "execution_count": 18,
   "id": "715b45af-c70b-4943-8970-f21985185f17",
   "metadata": {},
   "outputs": [
    {
     "name": "stdout",
     "output_type": "stream",
     "text": [
      "[(34587, 163.8), (98762, 284.0), (77226, 108.85000000000001), (88112, 84.97)]\n"
     ]
    }
   ],
   "source": [
    "\n",
    "orders = [\n",
    "    [34587, 40.95, 4],\n",
    "    [98762, 56.80, 5],\n",
    "    [77226, 32.95, 3],\n",
    "    [88112, 24.99, 3]\n",
    "]\n",
    "result = list(map(lambda x: (x[0], x[1] * x[2] + (10 if x[1] * x[2] < 100 else 0)), orders))\n",
    "print(result)\n"
   ]
  },
  {
   "cell_type": "code",
   "execution_count": null,
   "id": "e11d4110-01f3-4358-8bc5-43fe2dd7bcbc",
   "metadata": {},
   "outputs": [],
   "source": []
  }
 ],
 "metadata": {
  "kernelspec": {
   "display_name": "Python 3 (ipykernel)",
   "language": "python",
   "name": "python3"
  },
  "language_info": {
   "codemirror_mode": {
    "name": "ipython",
    "version": 3
   },
   "file_extension": ".py",
   "mimetype": "text/x-python",
   "name": "python",
   "nbconvert_exporter": "python",
   "pygments_lexer": "ipython3",
   "version": "3.12.4"
  }
 },
 "nbformat": 4,
 "nbformat_minor": 5
}
